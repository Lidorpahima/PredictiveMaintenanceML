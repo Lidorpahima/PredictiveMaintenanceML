{
  "cells": [
    {
      "cell_type": "markdown",
      "metadata": {
        "id": "view-in-github",
        "colab_type": "text"
      },
      "source": [
        "<a href=\"https://colab.research.google.com/github/Lidorpahima/PredictiveMaintenanceML/blob/main/exercise_torch_201.ipynb\" target=\"_parent\"><img src=\"https://colab.research.google.com/assets/colab-badge.svg\" alt=\"Open In Colab\"/></a>"
      ]
    },
    {
      "cell_type": "markdown",
      "metadata": {
        "id": "1"
      },
      "source": [
        "# Predictive Maintenance using Neural Networks with PyTorch\n",
        "\n",
        "**Dataset**: AI4I 2020 Predictive Maintenance Dataset\n",
        "\n",
        "---\n",
        "\n",
        "## **Index**\n",
        "\n",
        "1. [Introduction](#1)\n",
        "2. [Import Libraries](#2)\n",
        "3. [Load the Dataset](#3)\n",
        "4. [Exploratory Data Analysis (EDA)](#4)\n",
        "   - 4.1 [Overview of the Dataset](#4.1)\n",
        "   - 4.2 [Check for Missing Values](#4.2)\n",
        "   - 4.3 [Statistical Summary](#4.3)\n",
        "   - 4.4 [Target Variable Distribution](#4.4)\n",
        "   - 4.5 [Visualizations](#4.5)\n",
        "5. [Data Preprocessing](#5)\n",
        "   - 5.1 [Drop Unnecessary Columns](#5.2)\n",
        "   - 5.2 [Drop 'Type' Column](#5.3)\n",
        "   - 5.3 [Feature and Target Separation](#5.4)\n",
        "6. [Split the Data into Training and Testing Sets](#6)\n",
        "7. [Balancing the Training Data](#7)\n",
        "8. [Feature Scaling](#8)\n",
        "9. [Principal Component Analysis (PCA)](#9)\n",
        "10. [Prepare Data for PyTorch](#10)\n",
        "11. [Implementing a Perceptron Model](#11)\n",
        "12. [Define the Neural Network](#12)\n",
        "13. [Train the Neural Network](#13)\n",
        "14. [Final Evaluation](#14)\n",
        "15. [Prediction Functionality with Widgets](#15)\n",
        "\n",
        "\n",
        "---"
      ]
    },
    {
      "cell_type": "markdown",
      "metadata": {
        "id": "2"
      },
      "source": [
        "<a id=\"1\"></a>\n",
        "## **1. Introduction**\n",
        "\n",
        "Predictive maintenance is used to prevent equipment failures and reduce downtime.\n",
        "\n",
        "We will:\n",
        "\n",
        "- Perform exploratory data analysis (EDA).\n",
        "- Preprocess the data, including handling class imbalance.\n",
        "- Implement both a perceptron model and a more complex neural network.\n",
        "- Explain key neural network concepts in detail, focusing on matrix manipulations.\n",
        "- Add prediction functionality with interactive widgets.\n",
        "- Evaluate the models' performance.\n",
        "\n",
        "---"
      ]
    },
    {
      "cell_type": "markdown",
      "metadata": {
        "id": "3"
      },
      "source": [
        "<a id=\"2\"></a>\n",
        "## **2. Import Libraries**\n",
        "\n",
        "First, we need to import the necessary libraries for data manipulation, visualization, machine learning, and building neural networks with PyTorch."
      ]
    },
    {
      "cell_type": "code",
      "execution_count": 63,
      "metadata": {
        "id": "4",
        "colab": {
          "base_uri": "https://localhost:8080/"
        },
        "outputId": "288001e7-5229-42ef-a9b8-c29dc4e2eba0"
      },
      "outputs": [
        {
          "output_type": "stream",
          "name": "stdout",
          "text": [
            "Requirement already satisfied: imbalanced-learn in /usr/local/lib/python3.10/dist-packages (0.12.4)\n",
            "Requirement already satisfied: numpy>=1.17.3 in /usr/local/lib/python3.10/dist-packages (from imbalanced-learn) (1.26.4)\n",
            "Requirement already satisfied: scipy>=1.5.0 in /usr/local/lib/python3.10/dist-packages (from imbalanced-learn) (1.13.1)\n",
            "Requirement already satisfied: scikit-learn>=1.0.2 in /usr/local/lib/python3.10/dist-packages (from imbalanced-learn) (1.5.2)\n",
            "Requirement already satisfied: joblib>=1.1.1 in /usr/local/lib/python3.10/dist-packages (from imbalanced-learn) (1.4.2)\n",
            "Requirement already satisfied: threadpoolctl>=2.0.0 in /usr/local/lib/python3.10/dist-packages (from imbalanced-learn) (3.5.0)\n",
            "Requirement already satisfied: ipywidgets in /usr/local/lib/python3.10/dist-packages (7.7.1)\n",
            "Requirement already satisfied: ipykernel>=4.5.1 in /usr/local/lib/python3.10/dist-packages (from ipywidgets) (5.5.6)\n",
            "Requirement already satisfied: ipython-genutils~=0.2.0 in /usr/local/lib/python3.10/dist-packages (from ipywidgets) (0.2.0)\n",
            "Requirement already satisfied: traitlets>=4.3.1 in /usr/local/lib/python3.10/dist-packages (from ipywidgets) (5.7.1)\n",
            "Requirement already satisfied: widgetsnbextension~=3.6.0 in /usr/local/lib/python3.10/dist-packages (from ipywidgets) (3.6.10)\n",
            "Requirement already satisfied: ipython>=4.0.0 in /usr/local/lib/python3.10/dist-packages (from ipywidgets) (7.34.0)\n",
            "Requirement already satisfied: jupyterlab-widgets>=1.0.0 in /usr/local/lib/python3.10/dist-packages (from ipywidgets) (3.0.13)\n",
            "Requirement already satisfied: jupyter-client in /usr/local/lib/python3.10/dist-packages (from ipykernel>=4.5.1->ipywidgets) (6.1.12)\n",
            "Requirement already satisfied: tornado>=4.2 in /usr/local/lib/python3.10/dist-packages (from ipykernel>=4.5.1->ipywidgets) (6.3.3)\n",
            "Requirement already satisfied: setuptools>=18.5 in /usr/local/lib/python3.10/dist-packages (from ipython>=4.0.0->ipywidgets) (75.1.0)\n",
            "Requirement already satisfied: jedi>=0.16 in /usr/local/lib/python3.10/dist-packages (from ipython>=4.0.0->ipywidgets) (0.19.2)\n",
            "Requirement already satisfied: decorator in /usr/local/lib/python3.10/dist-packages (from ipython>=4.0.0->ipywidgets) (4.4.2)\n",
            "Requirement already satisfied: pickleshare in /usr/local/lib/python3.10/dist-packages (from ipython>=4.0.0->ipywidgets) (0.7.5)\n",
            "Requirement already satisfied: prompt-toolkit!=3.0.0,!=3.0.1,<3.1.0,>=2.0.0 in /usr/local/lib/python3.10/dist-packages (from ipython>=4.0.0->ipywidgets) (3.0.48)\n",
            "Requirement already satisfied: pygments in /usr/local/lib/python3.10/dist-packages (from ipython>=4.0.0->ipywidgets) (2.18.0)\n",
            "Requirement already satisfied: backcall in /usr/local/lib/python3.10/dist-packages (from ipython>=4.0.0->ipywidgets) (0.2.0)\n",
            "Requirement already satisfied: matplotlib-inline in /usr/local/lib/python3.10/dist-packages (from ipython>=4.0.0->ipywidgets) (0.1.7)\n",
            "Requirement already satisfied: pexpect>4.3 in /usr/local/lib/python3.10/dist-packages (from ipython>=4.0.0->ipywidgets) (4.9.0)\n",
            "Requirement already satisfied: notebook>=4.4.1 in /usr/local/lib/python3.10/dist-packages (from widgetsnbextension~=3.6.0->ipywidgets) (6.5.5)\n",
            "Requirement already satisfied: parso<0.9.0,>=0.8.4 in /usr/local/lib/python3.10/dist-packages (from jedi>=0.16->ipython>=4.0.0->ipywidgets) (0.8.4)\n",
            "Requirement already satisfied: jinja2 in /usr/local/lib/python3.10/dist-packages (from notebook>=4.4.1->widgetsnbextension~=3.6.0->ipywidgets) (3.1.4)\n",
            "Requirement already satisfied: pyzmq<25,>=17 in /usr/local/lib/python3.10/dist-packages (from notebook>=4.4.1->widgetsnbextension~=3.6.0->ipywidgets) (24.0.1)\n",
            "Requirement already satisfied: argon2-cffi in /usr/local/lib/python3.10/dist-packages (from notebook>=4.4.1->widgetsnbextension~=3.6.0->ipywidgets) (23.1.0)\n",
            "Requirement already satisfied: jupyter-core>=4.6.1 in /usr/local/lib/python3.10/dist-packages (from notebook>=4.4.1->widgetsnbextension~=3.6.0->ipywidgets) (5.7.2)\n",
            "Requirement already satisfied: nbformat in /usr/local/lib/python3.10/dist-packages (from notebook>=4.4.1->widgetsnbextension~=3.6.0->ipywidgets) (5.10.4)\n",
            "Requirement already satisfied: nbconvert>=5 in /usr/local/lib/python3.10/dist-packages (from notebook>=4.4.1->widgetsnbextension~=3.6.0->ipywidgets) (7.16.4)\n",
            "Requirement already satisfied: nest-asyncio>=1.5 in /usr/local/lib/python3.10/dist-packages (from notebook>=4.4.1->widgetsnbextension~=3.6.0->ipywidgets) (1.6.0)\n",
            "Requirement already satisfied: Send2Trash>=1.8.0 in /usr/local/lib/python3.10/dist-packages (from notebook>=4.4.1->widgetsnbextension~=3.6.0->ipywidgets) (1.8.3)\n",
            "Requirement already satisfied: terminado>=0.8.3 in /usr/local/lib/python3.10/dist-packages (from notebook>=4.4.1->widgetsnbextension~=3.6.0->ipywidgets) (0.18.1)\n",
            "Requirement already satisfied: prometheus-client in /usr/local/lib/python3.10/dist-packages (from notebook>=4.4.1->widgetsnbextension~=3.6.0->ipywidgets) (0.21.0)\n",
            "Requirement already satisfied: nbclassic>=0.4.7 in /usr/local/lib/python3.10/dist-packages (from notebook>=4.4.1->widgetsnbextension~=3.6.0->ipywidgets) (1.1.0)\n",
            "Requirement already satisfied: python-dateutil>=2.1 in /usr/local/lib/python3.10/dist-packages (from jupyter-client->ipykernel>=4.5.1->ipywidgets) (2.8.2)\n",
            "Requirement already satisfied: ptyprocess>=0.5 in /usr/local/lib/python3.10/dist-packages (from pexpect>4.3->ipython>=4.0.0->ipywidgets) (0.7.0)\n",
            "Requirement already satisfied: wcwidth in /usr/local/lib/python3.10/dist-packages (from prompt-toolkit!=3.0.0,!=3.0.1,<3.1.0,>=2.0.0->ipython>=4.0.0->ipywidgets) (0.2.13)\n",
            "Requirement already satisfied: platformdirs>=2.5 in /usr/local/lib/python3.10/dist-packages (from jupyter-core>=4.6.1->notebook>=4.4.1->widgetsnbextension~=3.6.0->ipywidgets) (4.3.6)\n",
            "Requirement already satisfied: notebook-shim>=0.2.3 in /usr/local/lib/python3.10/dist-packages (from nbclassic>=0.4.7->notebook>=4.4.1->widgetsnbextension~=3.6.0->ipywidgets) (0.2.4)\n",
            "Requirement already satisfied: beautifulsoup4 in /usr/local/lib/python3.10/dist-packages (from nbconvert>=5->notebook>=4.4.1->widgetsnbextension~=3.6.0->ipywidgets) (4.12.3)\n",
            "Requirement already satisfied: bleach!=5.0.0 in /usr/local/lib/python3.10/dist-packages (from nbconvert>=5->notebook>=4.4.1->widgetsnbextension~=3.6.0->ipywidgets) (6.2.0)\n",
            "Requirement already satisfied: defusedxml in /usr/local/lib/python3.10/dist-packages (from nbconvert>=5->notebook>=4.4.1->widgetsnbextension~=3.6.0->ipywidgets) (0.7.1)\n",
            "Requirement already satisfied: jupyterlab-pygments in /usr/local/lib/python3.10/dist-packages (from nbconvert>=5->notebook>=4.4.1->widgetsnbextension~=3.6.0->ipywidgets) (0.3.0)\n",
            "Requirement already satisfied: markupsafe>=2.0 in /usr/local/lib/python3.10/dist-packages (from nbconvert>=5->notebook>=4.4.1->widgetsnbextension~=3.6.0->ipywidgets) (3.0.2)\n",
            "Requirement already satisfied: mistune<4,>=2.0.3 in /usr/local/lib/python3.10/dist-packages (from nbconvert>=5->notebook>=4.4.1->widgetsnbextension~=3.6.0->ipywidgets) (3.0.2)\n",
            "Requirement already satisfied: nbclient>=0.5.0 in /usr/local/lib/python3.10/dist-packages (from nbconvert>=5->notebook>=4.4.1->widgetsnbextension~=3.6.0->ipywidgets) (0.10.1)\n",
            "Requirement already satisfied: packaging in /usr/local/lib/python3.10/dist-packages (from nbconvert>=5->notebook>=4.4.1->widgetsnbextension~=3.6.0->ipywidgets) (24.2)\n",
            "Requirement already satisfied: pandocfilters>=1.4.1 in /usr/local/lib/python3.10/dist-packages (from nbconvert>=5->notebook>=4.4.1->widgetsnbextension~=3.6.0->ipywidgets) (1.5.1)\n",
            "Requirement already satisfied: tinycss2 in /usr/local/lib/python3.10/dist-packages (from nbconvert>=5->notebook>=4.4.1->widgetsnbextension~=3.6.0->ipywidgets) (1.4.0)\n",
            "Requirement already satisfied: fastjsonschema>=2.15 in /usr/local/lib/python3.10/dist-packages (from nbformat->notebook>=4.4.1->widgetsnbextension~=3.6.0->ipywidgets) (2.21.1)\n",
            "Requirement already satisfied: jsonschema>=2.6 in /usr/local/lib/python3.10/dist-packages (from nbformat->notebook>=4.4.1->widgetsnbextension~=3.6.0->ipywidgets) (4.23.0)\n",
            "Requirement already satisfied: six>=1.5 in /usr/local/lib/python3.10/dist-packages (from python-dateutil>=2.1->jupyter-client->ipykernel>=4.5.1->ipywidgets) (1.16.0)\n",
            "Requirement already satisfied: argon2-cffi-bindings in /usr/local/lib/python3.10/dist-packages (from argon2-cffi->notebook>=4.4.1->widgetsnbextension~=3.6.0->ipywidgets) (21.2.0)\n",
            "Requirement already satisfied: webencodings in /usr/local/lib/python3.10/dist-packages (from bleach!=5.0.0->nbconvert>=5->notebook>=4.4.1->widgetsnbextension~=3.6.0->ipywidgets) (0.5.1)\n",
            "Requirement already satisfied: attrs>=22.2.0 in /usr/local/lib/python3.10/dist-packages (from jsonschema>=2.6->nbformat->notebook>=4.4.1->widgetsnbextension~=3.6.0->ipywidgets) (24.2.0)\n",
            "Requirement already satisfied: jsonschema-specifications>=2023.03.6 in /usr/local/lib/python3.10/dist-packages (from jsonschema>=2.6->nbformat->notebook>=4.4.1->widgetsnbextension~=3.6.0->ipywidgets) (2024.10.1)\n",
            "Requirement already satisfied: referencing>=0.28.4 in /usr/local/lib/python3.10/dist-packages (from jsonschema>=2.6->nbformat->notebook>=4.4.1->widgetsnbextension~=3.6.0->ipywidgets) (0.35.1)\n",
            "Requirement already satisfied: rpds-py>=0.7.1 in /usr/local/lib/python3.10/dist-packages (from jsonschema>=2.6->nbformat->notebook>=4.4.1->widgetsnbextension~=3.6.0->ipywidgets) (0.22.0)\n",
            "Requirement already satisfied: jupyter-server<3,>=1.8 in /usr/local/lib/python3.10/dist-packages (from notebook-shim>=0.2.3->nbclassic>=0.4.7->notebook>=4.4.1->widgetsnbextension~=3.6.0->ipywidgets) (1.24.0)\n",
            "Requirement already satisfied: cffi>=1.0.1 in /usr/local/lib/python3.10/dist-packages (from argon2-cffi-bindings->argon2-cffi->notebook>=4.4.1->widgetsnbextension~=3.6.0->ipywidgets) (1.17.1)\n",
            "Requirement already satisfied: soupsieve>1.2 in /usr/local/lib/python3.10/dist-packages (from beautifulsoup4->nbconvert>=5->notebook>=4.4.1->widgetsnbextension~=3.6.0->ipywidgets) (2.6)\n",
            "Requirement already satisfied: pycparser in /usr/local/lib/python3.10/dist-packages (from cffi>=1.0.1->argon2-cffi-bindings->argon2-cffi->notebook>=4.4.1->widgetsnbextension~=3.6.0->ipywidgets) (2.22)\n",
            "Requirement already satisfied: anyio<4,>=3.1.0 in /usr/local/lib/python3.10/dist-packages (from jupyter-server<3,>=1.8->notebook-shim>=0.2.3->nbclassic>=0.4.7->notebook>=4.4.1->widgetsnbextension~=3.6.0->ipywidgets) (3.7.1)\n",
            "Requirement already satisfied: websocket-client in /usr/local/lib/python3.10/dist-packages (from jupyter-server<3,>=1.8->notebook-shim>=0.2.3->nbclassic>=0.4.7->notebook>=4.4.1->widgetsnbextension~=3.6.0->ipywidgets) (1.8.0)\n",
            "Requirement already satisfied: idna>=2.8 in /usr/local/lib/python3.10/dist-packages (from anyio<4,>=3.1.0->jupyter-server<3,>=1.8->notebook-shim>=0.2.3->nbclassic>=0.4.7->notebook>=4.4.1->widgetsnbextension~=3.6.0->ipywidgets) (3.10)\n",
            "Requirement already satisfied: sniffio>=1.1 in /usr/local/lib/python3.10/dist-packages (from anyio<4,>=3.1.0->jupyter-server<3,>=1.8->notebook-shim>=0.2.3->nbclassic>=0.4.7->notebook>=4.4.1->widgetsnbextension~=3.6.0->ipywidgets) (1.3.1)\n",
            "Requirement already satisfied: exceptiongroup in /usr/local/lib/python3.10/dist-packages (from anyio<4,>=3.1.0->jupyter-server<3,>=1.8->notebook-shim>=0.2.3->nbclassic>=0.4.7->notebook>=4.4.1->widgetsnbextension~=3.6.0->ipywidgets) (1.2.2)\n"
          ]
        }
      ],
      "source": [
        "# Install imbalanced-learn for handling imbalanced datasets\n",
        "!pip install imbalanced-learn\n",
        "!pip install ipywidgets\n",
        "\n",
        "# Data manipulation and visualization\n",
        "import pandas as pd\n",
        "import numpy as np\n",
        "import matplotlib.pyplot as plt\n",
        "import seaborn as sns\n",
        "\n",
        "# Machine learning and preprocessing\n",
        "from sklearn.model_selection import train_test_split\n",
        "from sklearn.preprocessing import StandardScaler, MinMaxScaler\n",
        "from sklearn.decomposition import PCA\n",
        "from sklearn.metrics import classification_report, confusion_matrix, accuracy_score, precision_score, recall_score, f1_score\n",
        "\n",
        "# Balancing the dataset\n",
        "from imblearn.over_sampling import SMOTE\n",
        "\n",
        "# PyTorch for neural network\n",
        "import torch\n",
        "import torch.nn as nn\n",
        "import torch.optim as optim\n",
        "from torch.utils.data import TensorDataset, DataLoader\n",
        "\n",
        "# Widgets for interactive inputs\n",
        "import ipywidgets as widgets\n",
        "from IPython.display import display\n",
        "\n",
        "# Ignore warnings\n",
        "import warnings\n",
        "warnings.filterwarnings('ignore')"
      ]
    },
    {
      "cell_type": "markdown",
      "metadata": {
        "id": "5"
      },
      "source": [
        "<a id=\"3\"></a>\n",
        "## **3. Load the Dataset**\n",
        "\n",
        "We need to load the AI4I 2020 Predictive Maintenance Dataset into a pandas DataFrame."
      ]
    },
    {
      "cell_type": "code",
      "execution_count": 64,
      "metadata": {
        "id": "6",
        "colab": {
          "base_uri": "https://localhost:8080/",
          "height": 225
        },
        "outputId": "26652971-e83e-4a85-81af-0787a4f258d4"
      },
      "outputs": [
        {
          "output_type": "stream",
          "name": "stdout",
          "text": [
            "Drive already mounted at /content/drive; to attempt to forcibly remount, call drive.mount(\"/content/drive\", force_remount=True).\n"
          ]
        },
        {
          "output_type": "execute_result",
          "data": {
            "text/plain": [
              "   UDI Product ID Type  Air temperature [K]  Process temperature [K]  \\\n",
              "0    1     M14860    M                298.1                    308.6   \n",
              "1    2     L47181    L                298.2                    308.7   \n",
              "2    3     L47182    L                298.1                    308.5   \n",
              "3    4     L47183    L                298.2                    308.6   \n",
              "4    5     L47184    L                298.2                    308.7   \n",
              "\n",
              "   Rotational speed [rpm]  Torque [Nm]  Tool wear [min]  Machine failure  TWF  \\\n",
              "0                    1551         42.8                0                0    0   \n",
              "1                    1408         46.3                3                0    0   \n",
              "2                    1498         49.4                5                0    0   \n",
              "3                    1433         39.5                7                0    0   \n",
              "4                    1408         40.0                9                0    0   \n",
              "\n",
              "   HDF  PWF  OSF  RNF  \n",
              "0    0    0    0    0  \n",
              "1    0    0    0    0  \n",
              "2    0    0    0    0  \n",
              "3    0    0    0    0  \n",
              "4    0    0    0    0  "
            ],
            "text/html": [
              "\n",
              "  <div id=\"df-ef19ba78-92d7-451d-8c91-b67804530477\" class=\"colab-df-container\">\n",
              "    <div>\n",
              "<style scoped>\n",
              "    .dataframe tbody tr th:only-of-type {\n",
              "        vertical-align: middle;\n",
              "    }\n",
              "\n",
              "    .dataframe tbody tr th {\n",
              "        vertical-align: top;\n",
              "    }\n",
              "\n",
              "    .dataframe thead th {\n",
              "        text-align: right;\n",
              "    }\n",
              "</style>\n",
              "<table border=\"1\" class=\"dataframe\">\n",
              "  <thead>\n",
              "    <tr style=\"text-align: right;\">\n",
              "      <th></th>\n",
              "      <th>UDI</th>\n",
              "      <th>Product ID</th>\n",
              "      <th>Type</th>\n",
              "      <th>Air temperature [K]</th>\n",
              "      <th>Process temperature [K]</th>\n",
              "      <th>Rotational speed [rpm]</th>\n",
              "      <th>Torque [Nm]</th>\n",
              "      <th>Tool wear [min]</th>\n",
              "      <th>Machine failure</th>\n",
              "      <th>TWF</th>\n",
              "      <th>HDF</th>\n",
              "      <th>PWF</th>\n",
              "      <th>OSF</th>\n",
              "      <th>RNF</th>\n",
              "    </tr>\n",
              "  </thead>\n",
              "  <tbody>\n",
              "    <tr>\n",
              "      <th>0</th>\n",
              "      <td>1</td>\n",
              "      <td>M14860</td>\n",
              "      <td>M</td>\n",
              "      <td>298.1</td>\n",
              "      <td>308.6</td>\n",
              "      <td>1551</td>\n",
              "      <td>42.8</td>\n",
              "      <td>0</td>\n",
              "      <td>0</td>\n",
              "      <td>0</td>\n",
              "      <td>0</td>\n",
              "      <td>0</td>\n",
              "      <td>0</td>\n",
              "      <td>0</td>\n",
              "    </tr>\n",
              "    <tr>\n",
              "      <th>1</th>\n",
              "      <td>2</td>\n",
              "      <td>L47181</td>\n",
              "      <td>L</td>\n",
              "      <td>298.2</td>\n",
              "      <td>308.7</td>\n",
              "      <td>1408</td>\n",
              "      <td>46.3</td>\n",
              "      <td>3</td>\n",
              "      <td>0</td>\n",
              "      <td>0</td>\n",
              "      <td>0</td>\n",
              "      <td>0</td>\n",
              "      <td>0</td>\n",
              "      <td>0</td>\n",
              "    </tr>\n",
              "    <tr>\n",
              "      <th>2</th>\n",
              "      <td>3</td>\n",
              "      <td>L47182</td>\n",
              "      <td>L</td>\n",
              "      <td>298.1</td>\n",
              "      <td>308.5</td>\n",
              "      <td>1498</td>\n",
              "      <td>49.4</td>\n",
              "      <td>5</td>\n",
              "      <td>0</td>\n",
              "      <td>0</td>\n",
              "      <td>0</td>\n",
              "      <td>0</td>\n",
              "      <td>0</td>\n",
              "      <td>0</td>\n",
              "    </tr>\n",
              "    <tr>\n",
              "      <th>3</th>\n",
              "      <td>4</td>\n",
              "      <td>L47183</td>\n",
              "      <td>L</td>\n",
              "      <td>298.2</td>\n",
              "      <td>308.6</td>\n",
              "      <td>1433</td>\n",
              "      <td>39.5</td>\n",
              "      <td>7</td>\n",
              "      <td>0</td>\n",
              "      <td>0</td>\n",
              "      <td>0</td>\n",
              "      <td>0</td>\n",
              "      <td>0</td>\n",
              "      <td>0</td>\n",
              "    </tr>\n",
              "    <tr>\n",
              "      <th>4</th>\n",
              "      <td>5</td>\n",
              "      <td>L47184</td>\n",
              "      <td>L</td>\n",
              "      <td>298.2</td>\n",
              "      <td>308.7</td>\n",
              "      <td>1408</td>\n",
              "      <td>40.0</td>\n",
              "      <td>9</td>\n",
              "      <td>0</td>\n",
              "      <td>0</td>\n",
              "      <td>0</td>\n",
              "      <td>0</td>\n",
              "      <td>0</td>\n",
              "      <td>0</td>\n",
              "    </tr>\n",
              "  </tbody>\n",
              "</table>\n",
              "</div>\n",
              "    <div class=\"colab-df-buttons\">\n",
              "\n",
              "  <div class=\"colab-df-container\">\n",
              "    <button class=\"colab-df-convert\" onclick=\"convertToInteractive('df-ef19ba78-92d7-451d-8c91-b67804530477')\"\n",
              "            title=\"Convert this dataframe to an interactive table.\"\n",
              "            style=\"display:none;\">\n",
              "\n",
              "  <svg xmlns=\"http://www.w3.org/2000/svg\" height=\"24px\" viewBox=\"0 -960 960 960\">\n",
              "    <path d=\"M120-120v-720h720v720H120Zm60-500h600v-160H180v160Zm220 220h160v-160H400v160Zm0 220h160v-160H400v160ZM180-400h160v-160H180v160Zm440 0h160v-160H620v160ZM180-180h160v-160H180v160Zm440 0h160v-160H620v160Z\"/>\n",
              "  </svg>\n",
              "    </button>\n",
              "\n",
              "  <style>\n",
              "    .colab-df-container {\n",
              "      display:flex;\n",
              "      gap: 12px;\n",
              "    }\n",
              "\n",
              "    .colab-df-convert {\n",
              "      background-color: #E8F0FE;\n",
              "      border: none;\n",
              "      border-radius: 50%;\n",
              "      cursor: pointer;\n",
              "      display: none;\n",
              "      fill: #1967D2;\n",
              "      height: 32px;\n",
              "      padding: 0 0 0 0;\n",
              "      width: 32px;\n",
              "    }\n",
              "\n",
              "    .colab-df-convert:hover {\n",
              "      background-color: #E2EBFA;\n",
              "      box-shadow: 0px 1px 2px rgba(60, 64, 67, 0.3), 0px 1px 3px 1px rgba(60, 64, 67, 0.15);\n",
              "      fill: #174EA6;\n",
              "    }\n",
              "\n",
              "    .colab-df-buttons div {\n",
              "      margin-bottom: 4px;\n",
              "    }\n",
              "\n",
              "    [theme=dark] .colab-df-convert {\n",
              "      background-color: #3B4455;\n",
              "      fill: #D2E3FC;\n",
              "    }\n",
              "\n",
              "    [theme=dark] .colab-df-convert:hover {\n",
              "      background-color: #434B5C;\n",
              "      box-shadow: 0px 1px 3px 1px rgba(0, 0, 0, 0.15);\n",
              "      filter: drop-shadow(0px 1px 2px rgba(0, 0, 0, 0.3));\n",
              "      fill: #FFFFFF;\n",
              "    }\n",
              "  </style>\n",
              "\n",
              "    <script>\n",
              "      const buttonEl =\n",
              "        document.querySelector('#df-ef19ba78-92d7-451d-8c91-b67804530477 button.colab-df-convert');\n",
              "      buttonEl.style.display =\n",
              "        google.colab.kernel.accessAllowed ? 'block' : 'none';\n",
              "\n",
              "      async function convertToInteractive(key) {\n",
              "        const element = document.querySelector('#df-ef19ba78-92d7-451d-8c91-b67804530477');\n",
              "        const dataTable =\n",
              "          await google.colab.kernel.invokeFunction('convertToInteractive',\n",
              "                                                    [key], {});\n",
              "        if (!dataTable) return;\n",
              "\n",
              "        const docLinkHtml = 'Like what you see? Visit the ' +\n",
              "          '<a target=\"_blank\" href=https://colab.research.google.com/notebooks/data_table.ipynb>data table notebook</a>'\n",
              "          + ' to learn more about interactive tables.';\n",
              "        element.innerHTML = '';\n",
              "        dataTable['output_type'] = 'display_data';\n",
              "        await google.colab.output.renderOutput(dataTable, element);\n",
              "        const docLink = document.createElement('div');\n",
              "        docLink.innerHTML = docLinkHtml;\n",
              "        element.appendChild(docLink);\n",
              "      }\n",
              "    </script>\n",
              "  </div>\n",
              "\n",
              "\n",
              "<div id=\"df-26536edd-3706-4cac-a4c8-f7607059bbcd\">\n",
              "  <button class=\"colab-df-quickchart\" onclick=\"quickchart('df-26536edd-3706-4cac-a4c8-f7607059bbcd')\"\n",
              "            title=\"Suggest charts\"\n",
              "            style=\"display:none;\">\n",
              "\n",
              "<svg xmlns=\"http://www.w3.org/2000/svg\" height=\"24px\"viewBox=\"0 0 24 24\"\n",
              "     width=\"24px\">\n",
              "    <g>\n",
              "        <path d=\"M19 3H5c-1.1 0-2 .9-2 2v14c0 1.1.9 2 2 2h14c1.1 0 2-.9 2-2V5c0-1.1-.9-2-2-2zM9 17H7v-7h2v7zm4 0h-2V7h2v10zm4 0h-2v-4h2v4z\"/>\n",
              "    </g>\n",
              "</svg>\n",
              "  </button>\n",
              "\n",
              "<style>\n",
              "  .colab-df-quickchart {\n",
              "      --bg-color: #E8F0FE;\n",
              "      --fill-color: #1967D2;\n",
              "      --hover-bg-color: #E2EBFA;\n",
              "      --hover-fill-color: #174EA6;\n",
              "      --disabled-fill-color: #AAA;\n",
              "      --disabled-bg-color: #DDD;\n",
              "  }\n",
              "\n",
              "  [theme=dark] .colab-df-quickchart {\n",
              "      --bg-color: #3B4455;\n",
              "      --fill-color: #D2E3FC;\n",
              "      --hover-bg-color: #434B5C;\n",
              "      --hover-fill-color: #FFFFFF;\n",
              "      --disabled-bg-color: #3B4455;\n",
              "      --disabled-fill-color: #666;\n",
              "  }\n",
              "\n",
              "  .colab-df-quickchart {\n",
              "    background-color: var(--bg-color);\n",
              "    border: none;\n",
              "    border-radius: 50%;\n",
              "    cursor: pointer;\n",
              "    display: none;\n",
              "    fill: var(--fill-color);\n",
              "    height: 32px;\n",
              "    padding: 0;\n",
              "    width: 32px;\n",
              "  }\n",
              "\n",
              "  .colab-df-quickchart:hover {\n",
              "    background-color: var(--hover-bg-color);\n",
              "    box-shadow: 0 1px 2px rgba(60, 64, 67, 0.3), 0 1px 3px 1px rgba(60, 64, 67, 0.15);\n",
              "    fill: var(--button-hover-fill-color);\n",
              "  }\n",
              "\n",
              "  .colab-df-quickchart-complete:disabled,\n",
              "  .colab-df-quickchart-complete:disabled:hover {\n",
              "    background-color: var(--disabled-bg-color);\n",
              "    fill: var(--disabled-fill-color);\n",
              "    box-shadow: none;\n",
              "  }\n",
              "\n",
              "  .colab-df-spinner {\n",
              "    border: 2px solid var(--fill-color);\n",
              "    border-color: transparent;\n",
              "    border-bottom-color: var(--fill-color);\n",
              "    animation:\n",
              "      spin 1s steps(1) infinite;\n",
              "  }\n",
              "\n",
              "  @keyframes spin {\n",
              "    0% {\n",
              "      border-color: transparent;\n",
              "      border-bottom-color: var(--fill-color);\n",
              "      border-left-color: var(--fill-color);\n",
              "    }\n",
              "    20% {\n",
              "      border-color: transparent;\n",
              "      border-left-color: var(--fill-color);\n",
              "      border-top-color: var(--fill-color);\n",
              "    }\n",
              "    30% {\n",
              "      border-color: transparent;\n",
              "      border-left-color: var(--fill-color);\n",
              "      border-top-color: var(--fill-color);\n",
              "      border-right-color: var(--fill-color);\n",
              "    }\n",
              "    40% {\n",
              "      border-color: transparent;\n",
              "      border-right-color: var(--fill-color);\n",
              "      border-top-color: var(--fill-color);\n",
              "    }\n",
              "    60% {\n",
              "      border-color: transparent;\n",
              "      border-right-color: var(--fill-color);\n",
              "    }\n",
              "    80% {\n",
              "      border-color: transparent;\n",
              "      border-right-color: var(--fill-color);\n",
              "      border-bottom-color: var(--fill-color);\n",
              "    }\n",
              "    90% {\n",
              "      border-color: transparent;\n",
              "      border-bottom-color: var(--fill-color);\n",
              "    }\n",
              "  }\n",
              "</style>\n",
              "\n",
              "  <script>\n",
              "    async function quickchart(key) {\n",
              "      const quickchartButtonEl =\n",
              "        document.querySelector('#' + key + ' button');\n",
              "      quickchartButtonEl.disabled = true;  // To prevent multiple clicks.\n",
              "      quickchartButtonEl.classList.add('colab-df-spinner');\n",
              "      try {\n",
              "        const charts = await google.colab.kernel.invokeFunction(\n",
              "            'suggestCharts', [key], {});\n",
              "      } catch (error) {\n",
              "        console.error('Error during call to suggestCharts:', error);\n",
              "      }\n",
              "      quickchartButtonEl.classList.remove('colab-df-spinner');\n",
              "      quickchartButtonEl.classList.add('colab-df-quickchart-complete');\n",
              "    }\n",
              "    (() => {\n",
              "      let quickchartButtonEl =\n",
              "        document.querySelector('#df-26536edd-3706-4cac-a4c8-f7607059bbcd button');\n",
              "      quickchartButtonEl.style.display =\n",
              "        google.colab.kernel.accessAllowed ? 'block' : 'none';\n",
              "    })();\n",
              "  </script>\n",
              "</div>\n",
              "\n",
              "    </div>\n",
              "  </div>\n"
            ],
            "application/vnd.google.colaboratory.intrinsic+json": {
              "type": "dataframe",
              "variable_name": "data",
              "summary": "{\n  \"name\": \"data\",\n  \"rows\": 10000,\n  \"fields\": [\n    {\n      \"column\": \"UDI\",\n      \"properties\": {\n        \"dtype\": \"number\",\n        \"std\": 2886,\n        \"min\": 1,\n        \"max\": 10000,\n        \"num_unique_values\": 10000,\n        \"samples\": [\n          6253,\n          4685,\n          1732\n        ],\n        \"semantic_type\": \"\",\n        \"description\": \"\"\n      }\n    },\n    {\n      \"column\": \"Product ID\",\n      \"properties\": {\n        \"dtype\": \"string\",\n        \"num_unique_values\": 10000,\n        \"samples\": [\n          \"L53432\",\n          \"M19544\",\n          \"M16591\"\n        ],\n        \"semantic_type\": \"\",\n        \"description\": \"\"\n      }\n    },\n    {\n      \"column\": \"Type\",\n      \"properties\": {\n        \"dtype\": \"category\",\n        \"num_unique_values\": 3,\n        \"samples\": [\n          \"M\",\n          \"L\",\n          \"H\"\n        ],\n        \"semantic_type\": \"\",\n        \"description\": \"\"\n      }\n    },\n    {\n      \"column\": \"Air temperature [K]\",\n      \"properties\": {\n        \"dtype\": \"number\",\n        \"std\": 2.0002586829157574,\n        \"min\": 295.3,\n        \"max\": 304.5,\n        \"num_unique_values\": 93,\n        \"samples\": [\n          299.3,\n          296.9,\n          300.8\n        ],\n        \"semantic_type\": \"\",\n        \"description\": \"\"\n      }\n    },\n    {\n      \"column\": \"Process temperature [K]\",\n      \"properties\": {\n        \"dtype\": \"number\",\n        \"std\": 1.4837342191657419,\n        \"min\": 305.7,\n        \"max\": 313.8,\n        \"num_unique_values\": 82,\n        \"samples\": [\n          307.2,\n          308.6,\n          310.1\n        ],\n        \"semantic_type\": \"\",\n        \"description\": \"\"\n      }\n    },\n    {\n      \"column\": \"Rotational speed [rpm]\",\n      \"properties\": {\n        \"dtype\": \"number\",\n        \"std\": 179,\n        \"min\": 1168,\n        \"max\": 2886,\n        \"num_unique_values\": 941,\n        \"samples\": [\n          1274,\n          1576,\n          2010\n        ],\n        \"semantic_type\": \"\",\n        \"description\": \"\"\n      }\n    },\n    {\n      \"column\": \"Torque [Nm]\",\n      \"properties\": {\n        \"dtype\": \"number\",\n        \"std\": 9.968933725121401,\n        \"min\": 3.8,\n        \"max\": 76.6,\n        \"num_unique_values\": 577,\n        \"samples\": [\n          36.1,\n          65.9,\n          12.6\n        ],\n        \"semantic_type\": \"\",\n        \"description\": \"\"\n      }\n    },\n    {\n      \"column\": \"Tool wear [min]\",\n      \"properties\": {\n        \"dtype\": \"number\",\n        \"std\": 63,\n        \"min\": 0,\n        \"max\": 253,\n        \"num_unique_values\": 246,\n        \"samples\": [\n          93,\n          14,\n          215\n        ],\n        \"semantic_type\": \"\",\n        \"description\": \"\"\n      }\n    },\n    {\n      \"column\": \"Machine failure\",\n      \"properties\": {\n        \"dtype\": \"number\",\n        \"std\": 0,\n        \"min\": 0,\n        \"max\": 1,\n        \"num_unique_values\": 2,\n        \"samples\": [\n          1,\n          0\n        ],\n        \"semantic_type\": \"\",\n        \"description\": \"\"\n      }\n    },\n    {\n      \"column\": \"TWF\",\n      \"properties\": {\n        \"dtype\": \"number\",\n        \"std\": 0,\n        \"min\": 0,\n        \"max\": 1,\n        \"num_unique_values\": 2,\n        \"samples\": [\n          1,\n          0\n        ],\n        \"semantic_type\": \"\",\n        \"description\": \"\"\n      }\n    },\n    {\n      \"column\": \"HDF\",\n      \"properties\": {\n        \"dtype\": \"number\",\n        \"std\": 0,\n        \"min\": 0,\n        \"max\": 1,\n        \"num_unique_values\": 2,\n        \"samples\": [\n          1,\n          0\n        ],\n        \"semantic_type\": \"\",\n        \"description\": \"\"\n      }\n    },\n    {\n      \"column\": \"PWF\",\n      \"properties\": {\n        \"dtype\": \"number\",\n        \"std\": 0,\n        \"min\": 0,\n        \"max\": 1,\n        \"num_unique_values\": 2,\n        \"samples\": [\n          1,\n          0\n        ],\n        \"semantic_type\": \"\",\n        \"description\": \"\"\n      }\n    },\n    {\n      \"column\": \"OSF\",\n      \"properties\": {\n        \"dtype\": \"number\",\n        \"std\": 0,\n        \"min\": 0,\n        \"max\": 1,\n        \"num_unique_values\": 2,\n        \"samples\": [\n          1,\n          0\n        ],\n        \"semantic_type\": \"\",\n        \"description\": \"\"\n      }\n    },\n    {\n      \"column\": \"RNF\",\n      \"properties\": {\n        \"dtype\": \"number\",\n        \"std\": 0,\n        \"min\": 0,\n        \"max\": 1,\n        \"num_unique_values\": 2,\n        \"samples\": [\n          1,\n          0\n        ],\n        \"semantic_type\": \"\",\n        \"description\": \"\"\n      }\n    }\n  ]\n}"
            }
          },
          "metadata": {},
          "execution_count": 64
        }
      ],
      "source": [
        "# Mount Google Drive (if using Google Colab)\n",
        "from google.colab import drive\n",
        "drive.mount('/content/drive')\n",
        "\n",
        "#Define the path to the dataset in Google Drive\n",
        "data_path = '/content/data/ai4i2020.csv'\n",
        "#data_path = 'data/ai4i2020.csv'\n",
        "data = pd.read_csv(data_path)\n",
        "\n",
        "# Display the first five rows\n",
        "data.head()"
      ]
    },
    {
      "cell_type": "markdown",
      "metadata": {
        "id": "7"
      },
      "source": [
        "---\n",
        "\n",
        "<a id=\"4\"></a>\n",
        "## **4. Exploratory Data Analysis (EDA)**\n",
        "\n",
        "Exploratory data analysis helps us understand the dataset's structure, identify patterns, and detect anomalies."
      ]
    },
    {
      "cell_type": "markdown",
      "metadata": {
        "id": "8"
      },
      "source": [
        "<a id=\"4.1\"></a>\n",
        "### **4.1. Overview of the Dataset**"
      ]
    },
    {
      "cell_type": "code",
      "execution_count": 65,
      "metadata": {
        "id": "9",
        "colab": {
          "base_uri": "https://localhost:8080/"
        },
        "outputId": "a02e247e-f2b6-438e-97fd-9ae55c052e2a"
      },
      "outputs": [
        {
          "output_type": "stream",
          "name": "stdout",
          "text": [
            "<class 'pandas.core.frame.DataFrame'>\n",
            "RangeIndex: 10000 entries, 0 to 9999\n",
            "Data columns (total 14 columns):\n",
            " #   Column                   Non-Null Count  Dtype  \n",
            "---  ------                   --------------  -----  \n",
            " 0   UDI                      10000 non-null  int64  \n",
            " 1   Product ID               10000 non-null  object \n",
            " 2   Type                     10000 non-null  object \n",
            " 3   Air temperature [K]      10000 non-null  float64\n",
            " 4   Process temperature [K]  10000 non-null  float64\n",
            " 5   Rotational speed [rpm]   10000 non-null  int64  \n",
            " 6   Torque [Nm]              10000 non-null  float64\n",
            " 7   Tool wear [min]          10000 non-null  int64  \n",
            " 8   Machine failure          10000 non-null  int64  \n",
            " 9   TWF                      10000 non-null  int64  \n",
            " 10  HDF                      10000 non-null  int64  \n",
            " 11  PWF                      10000 non-null  int64  \n",
            " 12  OSF                      10000 non-null  int64  \n",
            " 13  RNF                      10000 non-null  int64  \n",
            "dtypes: float64(3), int64(9), object(2)\n",
            "memory usage: 1.1+ MB\n"
          ]
        }
      ],
      "source": [
        "# Display information about the dataset\n",
        "data.info()"
      ]
    },
    {
      "cell_type": "markdown",
      "metadata": {
        "id": "10"
      },
      "source": [
        "<a id=\"4.2\"></a>\n",
        "### **4.2. Check for Missing Values**"
      ]
    },
    {
      "cell_type": "code",
      "execution_count": 66,
      "metadata": {
        "id": "11",
        "colab": {
          "base_uri": "https://localhost:8080/",
          "height": 523
        },
        "outputId": "3e21a0ae-62f5-4de0-9a3c-5aa1a9096b0e"
      },
      "outputs": [
        {
          "output_type": "execute_result",
          "data": {
            "text/plain": [
              "UDI                        0\n",
              "Product ID                 0\n",
              "Type                       0\n",
              "Air temperature [K]        0\n",
              "Process temperature [K]    0\n",
              "Rotational speed [rpm]     0\n",
              "Torque [Nm]                0\n",
              "Tool wear [min]            0\n",
              "Machine failure            0\n",
              "TWF                        0\n",
              "HDF                        0\n",
              "PWF                        0\n",
              "OSF                        0\n",
              "RNF                        0\n",
              "dtype: int64"
            ],
            "text/html": [
              "<div>\n",
              "<style scoped>\n",
              "    .dataframe tbody tr th:only-of-type {\n",
              "        vertical-align: middle;\n",
              "    }\n",
              "\n",
              "    .dataframe tbody tr th {\n",
              "        vertical-align: top;\n",
              "    }\n",
              "\n",
              "    .dataframe thead th {\n",
              "        text-align: right;\n",
              "    }\n",
              "</style>\n",
              "<table border=\"1\" class=\"dataframe\">\n",
              "  <thead>\n",
              "    <tr style=\"text-align: right;\">\n",
              "      <th></th>\n",
              "      <th>0</th>\n",
              "    </tr>\n",
              "  </thead>\n",
              "  <tbody>\n",
              "    <tr>\n",
              "      <th>UDI</th>\n",
              "      <td>0</td>\n",
              "    </tr>\n",
              "    <tr>\n",
              "      <th>Product ID</th>\n",
              "      <td>0</td>\n",
              "    </tr>\n",
              "    <tr>\n",
              "      <th>Type</th>\n",
              "      <td>0</td>\n",
              "    </tr>\n",
              "    <tr>\n",
              "      <th>Air temperature [K]</th>\n",
              "      <td>0</td>\n",
              "    </tr>\n",
              "    <tr>\n",
              "      <th>Process temperature [K]</th>\n",
              "      <td>0</td>\n",
              "    </tr>\n",
              "    <tr>\n",
              "      <th>Rotational speed [rpm]</th>\n",
              "      <td>0</td>\n",
              "    </tr>\n",
              "    <tr>\n",
              "      <th>Torque [Nm]</th>\n",
              "      <td>0</td>\n",
              "    </tr>\n",
              "    <tr>\n",
              "      <th>Tool wear [min]</th>\n",
              "      <td>0</td>\n",
              "    </tr>\n",
              "    <tr>\n",
              "      <th>Machine failure</th>\n",
              "      <td>0</td>\n",
              "    </tr>\n",
              "    <tr>\n",
              "      <th>TWF</th>\n",
              "      <td>0</td>\n",
              "    </tr>\n",
              "    <tr>\n",
              "      <th>HDF</th>\n",
              "      <td>0</td>\n",
              "    </tr>\n",
              "    <tr>\n",
              "      <th>PWF</th>\n",
              "      <td>0</td>\n",
              "    </tr>\n",
              "    <tr>\n",
              "      <th>OSF</th>\n",
              "      <td>0</td>\n",
              "    </tr>\n",
              "    <tr>\n",
              "      <th>RNF</th>\n",
              "      <td>0</td>\n",
              "    </tr>\n",
              "  </tbody>\n",
              "</table>\n",
              "</div><br><label><b>dtype:</b> int64</label>"
            ]
          },
          "metadata": {},
          "execution_count": 66
        }
      ],
      "source": [
        "# Check for missing values in each column\n",
        "data.isnull().sum()"
      ]
    },
    {
      "cell_type": "markdown",
      "metadata": {
        "id": "12"
      },
      "source": [
        "Since there are no missing values, we can proceed."
      ]
    },
    {
      "cell_type": "markdown",
      "metadata": {
        "id": "13"
      },
      "source": [
        "<a id=\"4.3\"></a>\n",
        "### **4.3. Statistical Summary**"
      ]
    },
    {
      "cell_type": "code",
      "execution_count": 67,
      "metadata": {
        "id": "14",
        "colab": {
          "base_uri": "https://localhost:8080/",
          "height": 300
        },
        "outputId": "b5b9db8a-84cd-452f-c80c-a6778a5370fd"
      },
      "outputs": [
        {
          "output_type": "execute_result",
          "data": {
            "text/plain": [
              "               UDI  Air temperature [K]  Process temperature [K]  \\\n",
              "count  10000.00000         10000.000000             10000.000000   \n",
              "mean    5000.50000           300.004930               310.005560   \n",
              "std     2886.89568             2.000259                 1.483734   \n",
              "min        1.00000           295.300000               305.700000   \n",
              "25%     2500.75000           298.300000               308.800000   \n",
              "50%     5000.50000           300.100000               310.100000   \n",
              "75%     7500.25000           301.500000               311.100000   \n",
              "max    10000.00000           304.500000               313.800000   \n",
              "\n",
              "       Rotational speed [rpm]   Torque [Nm]  Tool wear [min]  Machine failure  \\\n",
              "count            10000.000000  10000.000000     10000.000000     10000.000000   \n",
              "mean              1538.776100     39.986910       107.951000         0.033900   \n",
              "std                179.284096      9.968934        63.654147         0.180981   \n",
              "min               1168.000000      3.800000         0.000000         0.000000   \n",
              "25%               1423.000000     33.200000        53.000000         0.000000   \n",
              "50%               1503.000000     40.100000       108.000000         0.000000   \n",
              "75%               1612.000000     46.800000       162.000000         0.000000   \n",
              "max               2886.000000     76.600000       253.000000         1.000000   \n",
              "\n",
              "                TWF           HDF           PWF           OSF          RNF  \n",
              "count  10000.000000  10000.000000  10000.000000  10000.000000  10000.00000  \n",
              "mean       0.004600      0.011500      0.009500      0.009800      0.00190  \n",
              "std        0.067671      0.106625      0.097009      0.098514      0.04355  \n",
              "min        0.000000      0.000000      0.000000      0.000000      0.00000  \n",
              "25%        0.000000      0.000000      0.000000      0.000000      0.00000  \n",
              "50%        0.000000      0.000000      0.000000      0.000000      0.00000  \n",
              "75%        0.000000      0.000000      0.000000      0.000000      0.00000  \n",
              "max        1.000000      1.000000      1.000000      1.000000      1.00000  "
            ],
            "text/html": [
              "\n",
              "  <div id=\"df-135dcd3b-fed1-4d43-a8df-ff907a0430a4\" class=\"colab-df-container\">\n",
              "    <div>\n",
              "<style scoped>\n",
              "    .dataframe tbody tr th:only-of-type {\n",
              "        vertical-align: middle;\n",
              "    }\n",
              "\n",
              "    .dataframe tbody tr th {\n",
              "        vertical-align: top;\n",
              "    }\n",
              "\n",
              "    .dataframe thead th {\n",
              "        text-align: right;\n",
              "    }\n",
              "</style>\n",
              "<table border=\"1\" class=\"dataframe\">\n",
              "  <thead>\n",
              "    <tr style=\"text-align: right;\">\n",
              "      <th></th>\n",
              "      <th>UDI</th>\n",
              "      <th>Air temperature [K]</th>\n",
              "      <th>Process temperature [K]</th>\n",
              "      <th>Rotational speed [rpm]</th>\n",
              "      <th>Torque [Nm]</th>\n",
              "      <th>Tool wear [min]</th>\n",
              "      <th>Machine failure</th>\n",
              "      <th>TWF</th>\n",
              "      <th>HDF</th>\n",
              "      <th>PWF</th>\n",
              "      <th>OSF</th>\n",
              "      <th>RNF</th>\n",
              "    </tr>\n",
              "  </thead>\n",
              "  <tbody>\n",
              "    <tr>\n",
              "      <th>count</th>\n",
              "      <td>10000.00000</td>\n",
              "      <td>10000.000000</td>\n",
              "      <td>10000.000000</td>\n",
              "      <td>10000.000000</td>\n",
              "      <td>10000.000000</td>\n",
              "      <td>10000.000000</td>\n",
              "      <td>10000.000000</td>\n",
              "      <td>10000.000000</td>\n",
              "      <td>10000.000000</td>\n",
              "      <td>10000.000000</td>\n",
              "      <td>10000.000000</td>\n",
              "      <td>10000.00000</td>\n",
              "    </tr>\n",
              "    <tr>\n",
              "      <th>mean</th>\n",
              "      <td>5000.50000</td>\n",
              "      <td>300.004930</td>\n",
              "      <td>310.005560</td>\n",
              "      <td>1538.776100</td>\n",
              "      <td>39.986910</td>\n",
              "      <td>107.951000</td>\n",
              "      <td>0.033900</td>\n",
              "      <td>0.004600</td>\n",
              "      <td>0.011500</td>\n",
              "      <td>0.009500</td>\n",
              "      <td>0.009800</td>\n",
              "      <td>0.00190</td>\n",
              "    </tr>\n",
              "    <tr>\n",
              "      <th>std</th>\n",
              "      <td>2886.89568</td>\n",
              "      <td>2.000259</td>\n",
              "      <td>1.483734</td>\n",
              "      <td>179.284096</td>\n",
              "      <td>9.968934</td>\n",
              "      <td>63.654147</td>\n",
              "      <td>0.180981</td>\n",
              "      <td>0.067671</td>\n",
              "      <td>0.106625</td>\n",
              "      <td>0.097009</td>\n",
              "      <td>0.098514</td>\n",
              "      <td>0.04355</td>\n",
              "    </tr>\n",
              "    <tr>\n",
              "      <th>min</th>\n",
              "      <td>1.00000</td>\n",
              "      <td>295.300000</td>\n",
              "      <td>305.700000</td>\n",
              "      <td>1168.000000</td>\n",
              "      <td>3.800000</td>\n",
              "      <td>0.000000</td>\n",
              "      <td>0.000000</td>\n",
              "      <td>0.000000</td>\n",
              "      <td>0.000000</td>\n",
              "      <td>0.000000</td>\n",
              "      <td>0.000000</td>\n",
              "      <td>0.00000</td>\n",
              "    </tr>\n",
              "    <tr>\n",
              "      <th>25%</th>\n",
              "      <td>2500.75000</td>\n",
              "      <td>298.300000</td>\n",
              "      <td>308.800000</td>\n",
              "      <td>1423.000000</td>\n",
              "      <td>33.200000</td>\n",
              "      <td>53.000000</td>\n",
              "      <td>0.000000</td>\n",
              "      <td>0.000000</td>\n",
              "      <td>0.000000</td>\n",
              "      <td>0.000000</td>\n",
              "      <td>0.000000</td>\n",
              "      <td>0.00000</td>\n",
              "    </tr>\n",
              "    <tr>\n",
              "      <th>50%</th>\n",
              "      <td>5000.50000</td>\n",
              "      <td>300.100000</td>\n",
              "      <td>310.100000</td>\n",
              "      <td>1503.000000</td>\n",
              "      <td>40.100000</td>\n",
              "      <td>108.000000</td>\n",
              "      <td>0.000000</td>\n",
              "      <td>0.000000</td>\n",
              "      <td>0.000000</td>\n",
              "      <td>0.000000</td>\n",
              "      <td>0.000000</td>\n",
              "      <td>0.00000</td>\n",
              "    </tr>\n",
              "    <tr>\n",
              "      <th>75%</th>\n",
              "      <td>7500.25000</td>\n",
              "      <td>301.500000</td>\n",
              "      <td>311.100000</td>\n",
              "      <td>1612.000000</td>\n",
              "      <td>46.800000</td>\n",
              "      <td>162.000000</td>\n",
              "      <td>0.000000</td>\n",
              "      <td>0.000000</td>\n",
              "      <td>0.000000</td>\n",
              "      <td>0.000000</td>\n",
              "      <td>0.000000</td>\n",
              "      <td>0.00000</td>\n",
              "    </tr>\n",
              "    <tr>\n",
              "      <th>max</th>\n",
              "      <td>10000.00000</td>\n",
              "      <td>304.500000</td>\n",
              "      <td>313.800000</td>\n",
              "      <td>2886.000000</td>\n",
              "      <td>76.600000</td>\n",
              "      <td>253.000000</td>\n",
              "      <td>1.000000</td>\n",
              "      <td>1.000000</td>\n",
              "      <td>1.000000</td>\n",
              "      <td>1.000000</td>\n",
              "      <td>1.000000</td>\n",
              "      <td>1.00000</td>\n",
              "    </tr>\n",
              "  </tbody>\n",
              "</table>\n",
              "</div>\n",
              "    <div class=\"colab-df-buttons\">\n",
              "\n",
              "  <div class=\"colab-df-container\">\n",
              "    <button class=\"colab-df-convert\" onclick=\"convertToInteractive('df-135dcd3b-fed1-4d43-a8df-ff907a0430a4')\"\n",
              "            title=\"Convert this dataframe to an interactive table.\"\n",
              "            style=\"display:none;\">\n",
              "\n",
              "  <svg xmlns=\"http://www.w3.org/2000/svg\" height=\"24px\" viewBox=\"0 -960 960 960\">\n",
              "    <path d=\"M120-120v-720h720v720H120Zm60-500h600v-160H180v160Zm220 220h160v-160H400v160Zm0 220h160v-160H400v160ZM180-400h160v-160H180v160Zm440 0h160v-160H620v160ZM180-180h160v-160H180v160Zm440 0h160v-160H620v160Z\"/>\n",
              "  </svg>\n",
              "    </button>\n",
              "\n",
              "  <style>\n",
              "    .colab-df-container {\n",
              "      display:flex;\n",
              "      gap: 12px;\n",
              "    }\n",
              "\n",
              "    .colab-df-convert {\n",
              "      background-color: #E8F0FE;\n",
              "      border: none;\n",
              "      border-radius: 50%;\n",
              "      cursor: pointer;\n",
              "      display: none;\n",
              "      fill: #1967D2;\n",
              "      height: 32px;\n",
              "      padding: 0 0 0 0;\n",
              "      width: 32px;\n",
              "    }\n",
              "\n",
              "    .colab-df-convert:hover {\n",
              "      background-color: #E2EBFA;\n",
              "      box-shadow: 0px 1px 2px rgba(60, 64, 67, 0.3), 0px 1px 3px 1px rgba(60, 64, 67, 0.15);\n",
              "      fill: #174EA6;\n",
              "    }\n",
              "\n",
              "    .colab-df-buttons div {\n",
              "      margin-bottom: 4px;\n",
              "    }\n",
              "\n",
              "    [theme=dark] .colab-df-convert {\n",
              "      background-color: #3B4455;\n",
              "      fill: #D2E3FC;\n",
              "    }\n",
              "\n",
              "    [theme=dark] .colab-df-convert:hover {\n",
              "      background-color: #434B5C;\n",
              "      box-shadow: 0px 1px 3px 1px rgba(0, 0, 0, 0.15);\n",
              "      filter: drop-shadow(0px 1px 2px rgba(0, 0, 0, 0.3));\n",
              "      fill: #FFFFFF;\n",
              "    }\n",
              "  </style>\n",
              "\n",
              "    <script>\n",
              "      const buttonEl =\n",
              "        document.querySelector('#df-135dcd3b-fed1-4d43-a8df-ff907a0430a4 button.colab-df-convert');\n",
              "      buttonEl.style.display =\n",
              "        google.colab.kernel.accessAllowed ? 'block' : 'none';\n",
              "\n",
              "      async function convertToInteractive(key) {\n",
              "        const element = document.querySelector('#df-135dcd3b-fed1-4d43-a8df-ff907a0430a4');\n",
              "        const dataTable =\n",
              "          await google.colab.kernel.invokeFunction('convertToInteractive',\n",
              "                                                    [key], {});\n",
              "        if (!dataTable) return;\n",
              "\n",
              "        const docLinkHtml = 'Like what you see? Visit the ' +\n",
              "          '<a target=\"_blank\" href=https://colab.research.google.com/notebooks/data_table.ipynb>data table notebook</a>'\n",
              "          + ' to learn more about interactive tables.';\n",
              "        element.innerHTML = '';\n",
              "        dataTable['output_type'] = 'display_data';\n",
              "        await google.colab.output.renderOutput(dataTable, element);\n",
              "        const docLink = document.createElement('div');\n",
              "        docLink.innerHTML = docLinkHtml;\n",
              "        element.appendChild(docLink);\n",
              "      }\n",
              "    </script>\n",
              "  </div>\n",
              "\n",
              "\n",
              "<div id=\"df-605768ac-41f1-461e-980b-21f6accd779b\">\n",
              "  <button class=\"colab-df-quickchart\" onclick=\"quickchart('df-605768ac-41f1-461e-980b-21f6accd779b')\"\n",
              "            title=\"Suggest charts\"\n",
              "            style=\"display:none;\">\n",
              "\n",
              "<svg xmlns=\"http://www.w3.org/2000/svg\" height=\"24px\"viewBox=\"0 0 24 24\"\n",
              "     width=\"24px\">\n",
              "    <g>\n",
              "        <path d=\"M19 3H5c-1.1 0-2 .9-2 2v14c0 1.1.9 2 2 2h14c1.1 0 2-.9 2-2V5c0-1.1-.9-2-2-2zM9 17H7v-7h2v7zm4 0h-2V7h2v10zm4 0h-2v-4h2v4z\"/>\n",
              "    </g>\n",
              "</svg>\n",
              "  </button>\n",
              "\n",
              "<style>\n",
              "  .colab-df-quickchart {\n",
              "      --bg-color: #E8F0FE;\n",
              "      --fill-color: #1967D2;\n",
              "      --hover-bg-color: #E2EBFA;\n",
              "      --hover-fill-color: #174EA6;\n",
              "      --disabled-fill-color: #AAA;\n",
              "      --disabled-bg-color: #DDD;\n",
              "  }\n",
              "\n",
              "  [theme=dark] .colab-df-quickchart {\n",
              "      --bg-color: #3B4455;\n",
              "      --fill-color: #D2E3FC;\n",
              "      --hover-bg-color: #434B5C;\n",
              "      --hover-fill-color: #FFFFFF;\n",
              "      --disabled-bg-color: #3B4455;\n",
              "      --disabled-fill-color: #666;\n",
              "  }\n",
              "\n",
              "  .colab-df-quickchart {\n",
              "    background-color: var(--bg-color);\n",
              "    border: none;\n",
              "    border-radius: 50%;\n",
              "    cursor: pointer;\n",
              "    display: none;\n",
              "    fill: var(--fill-color);\n",
              "    height: 32px;\n",
              "    padding: 0;\n",
              "    width: 32px;\n",
              "  }\n",
              "\n",
              "  .colab-df-quickchart:hover {\n",
              "    background-color: var(--hover-bg-color);\n",
              "    box-shadow: 0 1px 2px rgba(60, 64, 67, 0.3), 0 1px 3px 1px rgba(60, 64, 67, 0.15);\n",
              "    fill: var(--button-hover-fill-color);\n",
              "  }\n",
              "\n",
              "  .colab-df-quickchart-complete:disabled,\n",
              "  .colab-df-quickchart-complete:disabled:hover {\n",
              "    background-color: var(--disabled-bg-color);\n",
              "    fill: var(--disabled-fill-color);\n",
              "    box-shadow: none;\n",
              "  }\n",
              "\n",
              "  .colab-df-spinner {\n",
              "    border: 2px solid var(--fill-color);\n",
              "    border-color: transparent;\n",
              "    border-bottom-color: var(--fill-color);\n",
              "    animation:\n",
              "      spin 1s steps(1) infinite;\n",
              "  }\n",
              "\n",
              "  @keyframes spin {\n",
              "    0% {\n",
              "      border-color: transparent;\n",
              "      border-bottom-color: var(--fill-color);\n",
              "      border-left-color: var(--fill-color);\n",
              "    }\n",
              "    20% {\n",
              "      border-color: transparent;\n",
              "      border-left-color: var(--fill-color);\n",
              "      border-top-color: var(--fill-color);\n",
              "    }\n",
              "    30% {\n",
              "      border-color: transparent;\n",
              "      border-left-color: var(--fill-color);\n",
              "      border-top-color: var(--fill-color);\n",
              "      border-right-color: var(--fill-color);\n",
              "    }\n",
              "    40% {\n",
              "      border-color: transparent;\n",
              "      border-right-color: var(--fill-color);\n",
              "      border-top-color: var(--fill-color);\n",
              "    }\n",
              "    60% {\n",
              "      border-color: transparent;\n",
              "      border-right-color: var(--fill-color);\n",
              "    }\n",
              "    80% {\n",
              "      border-color: transparent;\n",
              "      border-right-color: var(--fill-color);\n",
              "      border-bottom-color: var(--fill-color);\n",
              "    }\n",
              "    90% {\n",
              "      border-color: transparent;\n",
              "      border-bottom-color: var(--fill-color);\n",
              "    }\n",
              "  }\n",
              "</style>\n",
              "\n",
              "  <script>\n",
              "    async function quickchart(key) {\n",
              "      const quickchartButtonEl =\n",
              "        document.querySelector('#' + key + ' button');\n",
              "      quickchartButtonEl.disabled = true;  // To prevent multiple clicks.\n",
              "      quickchartButtonEl.classList.add('colab-df-spinner');\n",
              "      try {\n",
              "        const charts = await google.colab.kernel.invokeFunction(\n",
              "            'suggestCharts', [key], {});\n",
              "      } catch (error) {\n",
              "        console.error('Error during call to suggestCharts:', error);\n",
              "      }\n",
              "      quickchartButtonEl.classList.remove('colab-df-spinner');\n",
              "      quickchartButtonEl.classList.add('colab-df-quickchart-complete');\n",
              "    }\n",
              "    (() => {\n",
              "      let quickchartButtonEl =\n",
              "        document.querySelector('#df-605768ac-41f1-461e-980b-21f6accd779b button');\n",
              "      quickchartButtonEl.style.display =\n",
              "        google.colab.kernel.accessAllowed ? 'block' : 'none';\n",
              "    })();\n",
              "  </script>\n",
              "</div>\n",
              "\n",
              "    </div>\n",
              "  </div>\n"
            ],
            "application/vnd.google.colaboratory.intrinsic+json": {
              "type": "dataframe",
              "summary": "{\n  \"name\": \"data\",\n  \"rows\": 8,\n  \"fields\": [\n    {\n      \"column\": \"UDI\",\n      \"properties\": {\n        \"dtype\": \"number\",\n        \"std\": 3603.743586536124,\n        \"min\": 1.0,\n        \"max\": 10000.0,\n        \"num_unique_values\": 6,\n        \"samples\": [\n          10000.0,\n          5000.5,\n          7500.25\n        ],\n        \"semantic_type\": \"\",\n        \"description\": \"\"\n      }\n    },\n    {\n      \"column\": \"Air temperature [K]\",\n      \"properties\": {\n        \"dtype\": \"number\",\n        \"std\": 3446.112587891836,\n        \"min\": 2.0002586829157574,\n        \"max\": 10000.0,\n        \"num_unique_values\": 8,\n        \"samples\": [\n          300.00493,\n          300.1,\n          10000.0\n        ],\n        \"semantic_type\": \"\",\n        \"description\": \"\"\n      }\n    },\n    {\n      \"column\": \"Process temperature [K]\",\n      \"properties\": {\n        \"dtype\": \"number\",\n        \"std\": 3443.232448462189,\n        \"min\": 1.4837342191657419,\n        \"max\": 10000.0,\n        \"num_unique_values\": 8,\n        \"samples\": [\n          310.00556,\n          310.1,\n          10000.0\n        ],\n        \"semantic_type\": \"\",\n        \"description\": \"\"\n      }\n    },\n    {\n      \"column\": \"Rotational speed [rpm]\",\n      \"properties\": {\n        \"dtype\": \"number\",\n        \"std\": 3103.301433905864,\n        \"min\": 179.28409591342628,\n        \"max\": 10000.0,\n        \"num_unique_values\": 8,\n        \"samples\": [\n          1538.7761,\n          1503.0,\n          10000.0\n        ],\n        \"semantic_type\": \"\",\n        \"description\": \"\"\n      }\n    },\n    {\n      \"column\": \"Torque [Nm]\",\n      \"properties\": {\n        \"dtype\": \"number\",\n        \"std\": 3522.9553380464768,\n        \"min\": 3.8,\n        \"max\": 10000.0,\n        \"num_unique_values\": 8,\n        \"samples\": [\n          39.986909999999995,\n          40.1,\n          10000.0\n        ],\n        \"semantic_type\": \"\",\n        \"description\": \"\"\n      }\n    },\n    {\n      \"column\": \"Tool wear [min]\",\n      \"properties\": {\n        \"dtype\": \"number\",\n        \"std\": 3498.6028684989537,\n        \"min\": 0.0,\n        \"max\": 10000.0,\n        \"num_unique_values\": 8,\n        \"samples\": [\n          107.951,\n          108.0,\n          10000.0\n        ],\n        \"semantic_type\": \"\",\n        \"description\": \"\"\n      }\n    },\n    {\n      \"column\": \"Machine failure\",\n      \"properties\": {\n        \"dtype\": \"number\",\n        \"std\": 3535.4725618125285,\n        \"min\": 0.0,\n        \"max\": 10000.0,\n        \"num_unique_values\": 5,\n        \"samples\": [\n          0.0339,\n          1.0,\n          0.18098084265064265\n        ],\n        \"semantic_type\": \"\",\n        \"description\": \"\"\n      }\n    },\n    {\n      \"column\": \"TWF\",\n      \"properties\": {\n        \"dtype\": \"number\",\n        \"std\": 3535.479765071392,\n        \"min\": 0.0,\n        \"max\": 10000.0,\n        \"num_unique_values\": 5,\n        \"samples\": [\n          0.0046,\n          1.0,\n          0.06767051004531742\n        ],\n        \"semantic_type\": \"\",\n        \"description\": \"\"\n      }\n    },\n    {\n      \"column\": \"HDF\",\n      \"properties\": {\n        \"dtype\": \"number\",\n        \"std\": 3535.477448920331,\n        \"min\": 0.0,\n        \"max\": 10000.0,\n        \"num_unique_values\": 5,\n        \"samples\": [\n          0.0115,\n          1.0,\n          0.10662498247917784\n        ],\n        \"semantic_type\": \"\",\n        \"description\": \"\"\n      }\n    },\n    {\n      \"column\": \"PWF\",\n      \"properties\": {\n        \"dtype\": \"number\",\n        \"std\": 3535.4780356645374,\n        \"min\": 0.0,\n        \"max\": 10000.0,\n        \"num_unique_values\": 5,\n        \"samples\": [\n          0.0095,\n          1.0,\n          0.09700871645943188\n        ],\n        \"semantic_type\": \"\",\n        \"description\": \"\"\n      }\n    },\n    {\n      \"column\": \"OSF\",\n      \"properties\": {\n        \"dtype\": \"number\",\n        \"std\": 3535.4779444983915,\n        \"min\": 0.0,\n        \"max\": 10000.0,\n        \"num_unique_values\": 5,\n        \"samples\": [\n          0.0098,\n          1.0,\n          0.09851360562404972\n        ],\n        \"semantic_type\": \"\",\n        \"description\": \"\"\n      }\n    },\n    {\n      \"column\": \"RNF\",\n      \"properties\": {\n        \"dtype\": \"number\",\n        \"std\": 3535.481119834332,\n        \"min\": 0.0,\n        \"max\": 10000.0,\n        \"num_unique_values\": 5,\n        \"samples\": [\n          0.0019,\n          1.0,\n          0.04354973774853278\n        ],\n        \"semantic_type\": \"\",\n        \"description\": \"\"\n      }\n    }\n  ]\n}"
            }
          },
          "metadata": {},
          "execution_count": 67
        }
      ],
      "source": [
        "# Statistical summary of numerical features\n",
        "data.describe()"
      ]
    },
    {
      "cell_type": "markdown",
      "metadata": {
        "id": "15"
      },
      "source": [
        "<a id=\"4.4\"></a>\n",
        "### **4.4. Target Variable Distribution**"
      ]
    },
    {
      "cell_type": "code",
      "execution_count": 68,
      "metadata": {
        "id": "16",
        "colab": {
          "base_uri": "https://localhost:8080/"
        },
        "outputId": "c441f08f-7d3f-4b47-f445-2a0ebddda2e3"
      },
      "outputs": [
        {
          "output_type": "stream",
          "name": "stdout",
          "text": [
            "Type distribution:\n",
            "Type\n",
            "L    6000\n",
            "M    2997\n",
            "H    1003\n",
            "Name: count, dtype: int64\n",
            "Failure type distribution:\n",
            "TWF     46\n",
            "HDF    115\n",
            "PWF     95\n",
            "OSF     98\n",
            "RNF     19\n",
            "dtype: int64\n"
          ]
        }
      ],
      "source": [
        "#Review Type field\n",
        "print(\"Type distribution:\")\n",
        "print(data['Type'].value_counts())\n",
        "\n",
        "# Sum of each failure type\n",
        "failure_types = ['TWF', 'HDF', 'PWF', 'OSF', 'RNF']\n",
        "print(\"Failure type distribution:\")\n",
        "print(data[failure_types].sum())"
      ]
    },
    {
      "cell_type": "markdown",
      "metadata": {
        "id": "17"
      },
      "source": [
        "Given that we have less than 50 samples per failure:\n",
        "\n",
        "```\n",
        "TWF     46\n",
        "HDF    115\n",
        "PWF     95\n",
        "OSF     98\n",
        "RNF     19\n",
        "```\n",
        "\n",
        "We will move to train the neural network with the column **'Machine failure'** as the target variable. This approach simplifies the problem to a binary classification task, predicting whether a machine will fail or not, regardless of the failure type."
      ]
    },
    {
      "cell_type": "markdown",
      "metadata": {
        "id": "18"
      },
      "source": [
        "<a id=\"4.5\"></a>\n",
        "### **4.5. Visualizations**\n",
        "\n",
        "#### **Histograms of Numerical Features**"
      ]
    },
    {
      "cell_type": "code",
      "execution_count": 69,
      "metadata": {
        "id": "19",
        "colab": {
          "base_uri": "https://localhost:8080/",
          "height": 1000
        },
        "outputId": "06978d31-5df3-4e2e-ff7c-c862e0a08c50"
      },
      "outputs": [
        {
          "output_type": "stream",
          "name": "stdout",
          "text": [
            "Machine failure distribution\n",
            "Machine failure\n",
            "0    9661\n",
            "1     339\n",
            "Name: count, dtype: int64\n"
          ]
        },
        {
          "output_type": "display_data",
          "data": {
            "text/plain": [
              "<Figure size 1500x1000 with 6 Axes>"
            ],
            "image/png": "[encoded data removed]"
          },
          "metadata": {}
        }
      ],
      "source": [
        "#'Machine failure'  distribution:\n",
        "print('Machine failure distribution')\n",
        "print(data['Machine failure'].value_counts())\n",
        "# List of numerical columns\n",
        "num_cols = ['Air temperature [K]', 'Process temperature [K]', 'Rotational speed [rpm]',\n",
        "            'Torque [Nm]', 'Tool wear [min]']\n",
        "\n",
        "# Plot histograms\n",
        "data[num_cols].hist(bins=15, figsize=(15, 10))\n",
        "plt.suptitle('Histograms of Numerical Features')\n",
        "plt.show()"
      ]
    },
    {
      "cell_type": "markdown",
      "metadata": {
        "id": "20"
      },
      "source": [
        "---"
      ]
    },
    {
      "cell_type": "markdown",
      "metadata": {
        "id": "21"
      },
      "source": [
        "<a id=\"5\"></a>\n",
        "## **5. Data Preprocessing**\n",
        "\n",
        "Data preprocessing is essential to prepare the data for modeling. It includes cleaning the data, handling missing values, encoding categorical variables, and feature scaling."
      ]
    },
    {
      "cell_type": "markdown",
      "metadata": {
        "id": "24"
      },
      "source": [
        "<a id=\"5.2\"></a>\n",
        "### **5.1. Drop Unnecessary Columns**\n",
        "\n",
        "We remove columns that are not useful for modeling. 'UDI' and 'Product ID' are unique identifiers and do not contribute to the predictive power of the model."
      ]
    },
    {
      "cell_type": "code",
      "execution_count": 70,
      "metadata": {
        "id": "25"
      },
      "outputs": [],
      "source": [
        "# Drop 'UDI' and 'Product ID' as they are unique identifiers and not useful for modeling\n",
        "data = data.drop(['UDI', 'Product ID'], axis=1)\n",
        "\n",
        "#Drop type because L is a majority class with more than"
      ]
    },
    {
      "cell_type": "markdown",
      "metadata": {
        "id": "26"
      },
      "source": [
        "<a id=\"5.3\"></a>\n",
        "### **5.2. Drop 'Type' Column**\n",
        "\n",
        "Delete Type because\n",
        "L    with 6000 records is the 60% of the data\n",
        "M    2997\n",
        "H    1003."
      ]
    },
    {
      "cell_type": "code",
      "execution_count": 71,
      "metadata": {
        "id": "27"
      },
      "outputs": [],
      "source": [
        "# delete the Type column\n",
        "data = data.drop(['Type'], axis = 1)"
      ]
    },
    {
      "cell_type": "markdown",
      "metadata": {
        "id": "28"
      },
      "source": [
        "<a id=\"5.4\"></a>\n",
        "### **5.3. Feature and Target Separation**\n",
        "\n",
        "We separate the dataset into features (input variables) and the target variable. In this case, the target is 'Machine failure'."
      ]
    },
    {
      "cell_type": "code",
      "execution_count": 72,
      "metadata": {
        "id": "29"
      },
      "outputs": [],
      "source": [
        "# Features (exclude 'Machine failure' and failure type columns)\n",
        "X = data.drop(['Machine failure', 'TWF', 'HDF', 'PWF', 'OSF', 'RNF'], axis=1)\n",
        "\n",
        "# Target variable ('Machine failure')\n",
        "y = data['Machine failure']"
      ]
    },
    {
      "cell_type": "markdown",
      "metadata": {
        "id": "30"
      },
      "source": [
        "---"
      ]
    },
    {
      "cell_type": "markdown",
      "metadata": {
        "id": "31"
      },
      "source": [
        "<a id=\"6\"></a>\n",
        "## **6. Split the Data into Training and Testing Sets**\n",
        "\n",
        "Splitting the data into training and testing sets is a crucial step in machine learning. The training set is used to train the model, while the testing set is used to evaluate its performance on unseen data.\n",
        "\n",
        "By doing this, we can assess how well the model generalizes to new data. Without a separate testing set, we risk overfitting the model to the training data, leading to poor performance in real-world scenarios."
      ]
    },
    {
      "cell_type": "code",
      "execution_count": 73,
      "metadata": {
        "id": "32",
        "colab": {
          "base_uri": "https://localhost:8080/"
        },
        "outputId": "04eac1ae-19c1-42b5-bdc2-c5703d6f81e3"
      },
      "outputs": [
        {
          "output_type": "stream",
          "name": "stdout",
          "text": [
            "Training set size: 8000 samples\n",
            "Testing set size: 2000 samples\n"
          ]
        }
      ],
      "source": [
        "# Split into training and testing sets\n",
        "X_train, X_test, y_train, y_test = train_test_split(\n",
        "    X, y, test_size=0.2, random_state=42, stratify=y)\n",
        "\n",
        "# Check the shape of the splits\n",
        "print(f\"Training set size: {X_train.shape[0]} samples\")\n",
        "print(f\"Testing set size: {X_test.shape[0]} samples\")"
      ]
    },
    {
      "cell_type": "markdown",
      "metadata": {
        "id": "33"
      },
      "source": [
        "---"
      ]
    },
    {
      "cell_type": "markdown",
      "metadata": {
        "id": "34"
      },
      "source": [
        "<a id=\"7\"></a>\n",
        "## **7. Balancing the Training Data**\n",
        "\n",
        "Class imbalance occurs when the number of instances of one class significantly exceeds those of other classes. In our dataset, machine failures are rare compared to normal operations.\n",
        "\n",
        "Balancing the dataset is important because machine learning models can become biased towards the majority class, leading to poor performance in predicting minority classes. We use **Synthetic Minority Over-sampling Technique (SMOTE)** to generate synthetic samples of the minority class, improving the model's ability to learn from these examples."
      ]
    },
    {
      "cell_type": "code",
      "execution_count": 74,
      "metadata": {
        "id": "35",
        "colab": {
          "base_uri": "https://localhost:8080/"
        },
        "outputId": "24dc1f3d-0e1a-4fff-9ea4-760e96b8cfc4"
      },
      "outputs": [
        {
          "output_type": "stream",
          "name": "stdout",
          "text": [
            "After resampling:\n",
            "Machine failure\n",
            "0    7729\n",
            "1    7729\n",
            "Name: count, dtype: int64\n"
          ]
        }
      ],
      "source": [
        "# Apply SMOTE to balance the dataset\n",
        "from imblearn.over_sampling import SMOTE, SVMSMOTE,RandomOverSampler\n",
        "#oversamp = SVMSMOTE(random_state=0)\n",
        "\n",
        "smote = SMOTE(random_state=42)\n",
        "X_train_resampled, y_train_resampled = smote.fit_resample(X_train, y_train)\n",
        "\n",
        "# Check the distribution after resampling\n",
        "print(\"After resampling:\")\n",
        "print(pd.Series(y_train_resampled).value_counts())"
      ]
    },
    {
      "cell_type": "markdown",
      "metadata": {
        "id": "36"
      },
      "source": [
        "SMOTE works by creating synthetic examples of the minority class by interpolating between existing minority instances. This approach helps the model to learn the underlying patterns of the minority class better than simply duplicating existing samples."
      ]
    },
    {
      "cell_type": "markdown",
      "metadata": {
        "id": "37"
      },
      "source": [
        "<a id=\"8\"></a>\n",
        "## **8. Feature Scaling**\n",
        "\n",
        "Feature scaling is the process of normalizing the range of features. It is essential because features with larger scales can dominate the learning process, leading to an ineffective model.\n",
        "\n",
        "We apply **standardization** to rescale our features to have a mean of zero and a standard deviation of one. This ensures that each feature contributes equally to the distance calculations in algorithms like gradient descent."
      ]
    },
    {
      "cell_type": "code",
      "execution_count": 75,
      "metadata": {
        "id": "38"
      },
      "outputs": [],
      "source": [
        "# Initialize the StandardScaler\n",
        "scaler = StandardScaler()\n",
        "\n",
        "# Fit on training data and transform\n",
        "X_train_scaled = scaler.fit_transform(X_train_resampled)\n",
        "\n",
        "# Transform the test data\n",
        "X_test_scaled = scaler.transform(X_test)"
      ]
    },
    {
      "cell_type": "markdown",
      "metadata": {
        "id": "39"
      },
      "source": [
        "Standardization helps in faster convergence during training and can improve the overall performance of the neural network."
      ]
    },
    {
      "cell_type": "markdown",
      "metadata": {
        "id": "40"
      },
      "source": [
        "---"
      ]
    },
    {
      "cell_type": "markdown",
      "metadata": {
        "id": "41"
      },
      "source": [
        "<a id=\"9\"></a>\n",
        "## **9. Principal Component Analysis (PCA)**\n",
        "\n",
        "PCA is a dimensionality reduction technique that transforms the data into a lower-dimensional space while retaining as much variance as possible. Reducing the number of features can help improve model performance and reduce computational complexity.\n",
        "Video: https://www.youtube.com/watch?v=g-Hb26agBFg&list=PLYZvFlkrlPewda1aLJQUR5jQfO1owUTm5&index=1"
      ]
    },
    {
      "cell_type": "code",
      "execution_count": 76,
      "metadata": {
        "id": "42"
      },
      "outputs": [],
      "source": [
        "# # Initialize PCA to reduce to 5 components\n",
        "# pca = PCA(n_components=5)\n",
        "\n",
        "# # Fit PCA on the training data\n",
        "# X_train_pca = pca.fit_transform(X_train_scaled)\n",
        "\n",
        "# # Transform the test data\n",
        "# X_test_pca = pca.transform(X_test_scaled)\n",
        "\n",
        "# # Explained variance ratio\n",
        "# print(\"Explained variance ratio:\", pca.explained_variance_ratio_)\n",
        "\n",
        "# # Total variance explained\n",
        "# print(\"Total variance explained:\", pca.explained_variance_ratio_.sum())"
      ]
    },
    {
      "cell_type": "markdown",
      "metadata": {
        "id": "43"
      },
      "source": [
        "PCA reduces the number of features from 9 to 5, capturing the majority of the variance in the data."
      ]
    },
    {
      "cell_type": "markdown",
      "metadata": {
        "id": "44"
      },
      "source": [
        "<a id=\"10\"></a>\n",
        "## **10. Prepare Data for PyTorch**\n",
        "\n",
        "To train our model using PyTorch, we need to convert our data into tensors and create data loaders. Data loaders help in batching and shuffling the data during training."
      ]
    },
    {
      "cell_type": "markdown",
      "source": [],
      "metadata": {
        "id": "koW60wGp6wn_"
      }
    },
    {
      "cell_type": "code",
      "execution_count": 77,
      "metadata": {
        "id": "45"
      },
      "outputs": [],
      "source": [
        "# Convert training data to tensors\n",
        "X_train_tensor = torch.tensor(X_train_scaled, dtype=torch.float32)\n",
        "y_train_tensor = torch.tensor(y_train_resampled.values, dtype=torch.float32)\n",
        "\n",
        "# Convert test data to tensors\n",
        "X_test_tensor = torch.tensor(X_test_scaled, dtype=torch.float32)\n",
        "y_test_tensor = torch.tensor(y_test.values, dtype=torch.float32)\n",
        "\n",
        "# Create DataLoader\n",
        "train_dataset = TensorDataset(X_train_tensor, y_train_tensor)\n",
        "train_loader = DataLoader(train_dataset, batch_size=1000, shuffle=True)\n"
      ]
    },
    {
      "cell_type": "markdown",
      "metadata": {
        "id": "46"
      },
      "source": [
        "Data loaders are essential in handling large datasets by breaking them into manageable batches. Shuffling ensures that the model doesn't learn the order of the data, which can introduce bias."
      ]
    },
    {
      "cell_type": "markdown",
      "metadata": {
        "id": "47"
      },
      "source": [
        "---"
      ]
    },
    {
      "cell_type": "markdown",
      "metadata": {
        "id": "48"
      },
      "source": [
        "<a id=\"11\"></a>\n",
        "## **11. Implementing a Perceptron Model**\n",
        "\n",
        "Before diving into a complex neural network, it's helpful to start with a simpler model like a **perceptron**. A perceptron is a single-layer neural network used for binary classification tasks.\n",
        "\n",
        "Implementing a perceptron allows us to understand the basics of neural networks, such as how weights are updated during training and how the activation function works.\n",
        "Video: https://www.youtube.com/watch?v=BR9h47Jtqyw&list=PLYZvFlkrlPewda1aLJQUR5jQfO1owUTm5&index=17"
      ]
    },
    {
      "cell_type": "code",
      "execution_count": 78,
      "metadata": {
        "id": "49",
        "colab": {
          "base_uri": "https://localhost:8080/"
        },
        "outputId": "f102bceb-e671-460b-a426-8402e3022464"
      },
      "outputs": [
        {
          "output_type": "stream",
          "name": "stdout",
          "text": [
            "Number of unique classes: 2\n"
          ]
        }
      ],
      "source": [
        "# Define the perceptron model\n",
        "num_classes = data['Machine failure'].nunique()\n",
        "print(f\"Number of unique classes: {num_classes}\")\n",
        "class Perceptron(nn.Module):\n",
        "    def __init__(self, input_size):\n",
        "        super(Perceptron, self).__init__()\n",
        "        self.linear = nn.Linear(input_size,1 )\n",
        "\n",
        "    def forward(self, x):\n",
        "        out = self.linear(x)\n",
        "        return out\n",
        "\n",
        "# Initialize model, loss function, optimizer\n",
        "input_size = X_train_tensor.shape[1]\n",
        "model_perceptron = Perceptron(input_size)\n",
        "\n",
        "# Move model to device (CPU or GPU)\n",
        "device = torch.device('cuda' if torch.cuda.is_available() else 'cpu')\n",
        "model_perceptron.to(device)\n",
        "X_test_tensor = X_test_tensor.to(dtype=torch.float32 )\n",
        "y_test_tensor = y_test_tensor.to(dtype=torch.long )\n",
        "\n",
        "# Define loss function and optimizer\n",
        "criterion = nn.BCEWithLogitsLoss()\n",
        "optimizer = optim.SGD(model_perceptron.parameters(), lr=0.01)"
      ]
    },
    {
      "cell_type": "markdown",
      "metadata": {
        "id": "50"
      },
      "source": [
        "**Inheritance from `nn.Module`**:\n",
        "\n",
        "By inheriting from `nn.Module`, our `Perceptron` class gains the functionality needed to define and train a neural network in PyTorch. This includes methods for tracking model parameters and moving the model to different devices (CPU/GPU).\n",
        "\n",
        "**Calculating Number of Weights**:\n",
        "\n",
        "In a perceptron with `n` input features and 1 output, the number of weights is `n + 1` (including the bias term). For example, if `n = 5`, then we have 6 weights.\n",
        "\n",
        "**Perceptron Explanation**:\n",
        "\n",
        "A perceptron consists of a single linear layer that maps input features to an output. It uses an activation function (in this case, the sigmoid function applied via `BCEWithLogitsLoss`) to produce probabilities. The perceptron learns weights that minimize the loss function through gradient descent.\n",
        "\n",
        "Using a simple model like a perceptron helps in understanding the core concepts of neural networks without the complexity of multiple layers and non-linear activations."
      ]
    },
    {
      "cell_type": "markdown",
      "metadata": {
        "id": "51"
      },
      "source": [
        "**Forward Propagation with Matrices**:\n",
        "\n",
        "In forward propagation, the input data (matrix **X**) is multiplied by the weight matrix **W** and added to the bias **b** to produce the output **Y_pred**:\n",
        "\n",
        "\\[ Y_{pred} = XW + b \\]\n",
        "\n",
        "Here, **X** is of shape (batch_size, input_size), **W** is of shape (input_size, 1), and **b** is a scalar. The result is a tensor of shape (batch_size, 1). This operation is a matrix multiplication followed by a bias addition.\n",
        "\n",
        "**Gradient Descent with Matrices**:\n",
        "\n",
        "During backpropagation, we compute the gradient of the loss function with respect to the weights **W** and bias **b**. These gradients are matrices/tensors of the same shape as **W** and **b**. The weights and biases are then updated using the gradients:\n",
        "\n",
        "\\[ W = W - \\eta \\frac{\\partial L}{\\partial W} \\]\n",
        "\\[ b = b - \\eta \\frac{\\partial L}{\\partial b} \\]\n",
        "\n",
        "Where:\n",
        "- \\( \\eta \\) is the learning rate.\n",
        "- \\( \\frac{\\partial L}{\\partial W} \\) is the gradient of the loss with respect to **W**.\n",
        "- \\( \\frac{\\partial L}{\\partial b} \\) is the gradient of the loss with respect to **b**.\n",
        "\n",
        "\n",
        "\n",
        "**\n",
        "\n",
        "The loss.backward() call initiates the backward pass, where PyTorch computes the gradients of the loss with respect to each model parameter through backpropagation. This process involves:\n",
        "\n",
        "Computational Graph Traversal: PyTorch keeps track of the operations performed during the forward pass, building a computational graph.\n",
        "Chain Rule Application: The backward pass computes derivatives using the chain rule, moving from the output layer back to the input layer.\n",
        "Gradient Storage: The computed gradients are stored in the .grad attribute of each parameter tensor."
      ]
    },
    {
      "cell_type": "code",
      "execution_count": 79,
      "metadata": {
        "id": "52",
        "colab": {
          "base_uri": "https://localhost:8080/"
        },
        "outputId": "f6d20953-e338-454d-8edd-3ca1052f44e6"
      },
      "outputs": [
        {
          "output_type": "stream",
          "name": "stdout",
          "text": [
            "Epoch 1/20, Loss: 0.7772, Precision: 0.0306\n",
            "Epoch 2/20, Loss: 0.7580, Precision: 0.0414\n",
            "Epoch 3/20, Loss: 0.7460, Precision: 0.0521\n",
            "Epoch 4/20, Loss: 0.7003, Precision: 0.0563\n",
            "Epoch 5/20, Loss: 0.7107, Precision: 0.0826\n",
            "Epoch 6/20, Loss: 0.6842, Precision: 0.0991\n",
            "Epoch 7/20, Loss: 0.6747, Precision: 0.1083\n",
            "Epoch 8/20, Loss: 0.6471, Precision: 0.1168\n",
            "Epoch 9/20, Loss: 0.6442, Precision: 0.1170\n",
            "Epoch 10/20, Loss: 0.6241, Precision: 0.1202\n",
            "Epoch 11/20, Loss: 0.6465, Precision: 0.1223\n",
            "Epoch 12/20, Loss: 0.6145, Precision: 0.1270\n",
            "Epoch 13/20, Loss: 0.6289, Precision: 0.1296\n",
            "Epoch 14/20, Loss: 0.6096, Precision: 0.1275\n",
            "Epoch 15/20, Loss: 0.6079, Precision: 0.1227\n",
            "Epoch 16/20, Loss: 0.5984, Precision: 0.1206\n",
            "Epoch 17/20, Loss: 0.6120, Precision: 0.1203\n",
            "Epoch 18/20, Loss: 0.6004, Precision: 0.1205\n",
            "Epoch 19/20, Loss: 0.5951, Precision: 0.1173\n",
            "Epoch 20/20, Loss: 0.5868, Precision: 0.1140\n"
          ]
        }
      ],
      "source": [
        "# Training the perceptron model\n",
        "X_test_tensor = X_test_tensor.to(device)\n",
        "y_test_tensor = y_test_tensor.to(device)\n",
        "epochs = 20\n",
        "\n",
        "for epoch in range(epochs):\n",
        "    #WRITE THE CODE HERE .train()\n",
        "    model_perceptron.train()\n",
        "    running_loss = 0.0\n",
        "    for X_batch, y_batch in train_loader:\n",
        "        X_batch = X_batch.to(device)\n",
        "        y_batch = y_batch.to(device).unsqueeze(1)\n",
        "\n",
        "        optimizer.zero_grad() #Reset the gradients to zero for the next batch.\n",
        "        outputs = model_perceptron(X_batch) #Forward propagation\n",
        "        loss = criterion(outputs, y_batch)  #Compute loss\n",
        "        loss.backward() #Backward propagation\n",
        "        optimizer.step() #Update the weights\n",
        "        running_loss+= loss.item()\n",
        "    # Evaluate on the test set\n",
        "    model_perceptron.eval()\n",
        "    with torch.no_grad():\n",
        "        outputs = model_perceptron(X_test_tensor)\n",
        "        predictions = torch.sigmoid(outputs) > 0.5\n",
        "        precision = precision_score(y_test_tensor.cpu(), predictions.cpu())\n",
        "\n",
        "    print(f\"Epoch {epoch+1}/{epochs}, Loss: {loss.item():.4f}, Precision: {precision:.4f}\")"
      ]
    },
    {
      "cell_type": "markdown",
      "metadata": {
        "id": "53"
      },
      "source": [
        "**Forward Propagation**:\n",
        "\n",
        "- **Matrix Multiplication**: Input features are multiplied by weights.\n",
        "- **Activation Function**: Applies a non-linear function to introduce non-linearity.\n",
        "\n",
        "**Backward Propagation**:\n",
        "\n",
        "- **Compute Gradients**: Calculate the gradient of the loss function with respect to each weight and bias.\n",
        "- **Update Weights**: Adjust weights in the opposite direction of the gradient to minimize the loss.\n",
        "\n",
        "**Gradient Descent**:\n",
        "\n",
        "An optimization algorithm that iteratively updates parameters to minimize a loss function. In each iteration, we update the parameters using the gradients calculated during backpropagation."
      ]
    },
    {
      "cell_type": "markdown",
      "metadata": {
        "id": "54"
      },
      "source": [
        "---"
      ]
    },
    {
      "cell_type": "markdown",
      "metadata": {
        "id": "55"
      },
      "source": [
        "<a id=\"12\"></a>\n",
        "## **12. Define the Neural Network**\n",
        "\n",
        "Now, we'll implement a more complex neural network. This network includes multiple layers, non-linear activation functions, and dropout regularization to prevent overfitting.\n",
        "\n",
        "**Why Use a Neural Network?**\n",
        "\n",
        "A neural network can capture complex non-linear relationships in the data, which a simple perceptron might miss. By adding hidden layers and non-linear activation functions, the model can learn intricate patterns, improving its predictive performance.\n",
        "Video: https://playground.tensorflow.org/#activation=tanh&batchSize=10&dataset=circle&regDataset=reg-plane&learningRate=0.03&regularizationRate=0&noise=0&networkShape=4,2&seed=0.46276&showTestData=false&discretize=false&percTrainData=50&x=true&y=true&xTimesY=false&xSquared=false&ySquared=false&cosX=false&sinX=false&cosY=false&sinY=false&collectStats=false&problem=classification&initZero=false&hideText=false"
      ]
    },
    {
      "cell_type": "code",
      "execution_count": 80,
      "metadata": {
        "id": "56"
      },
      "outputs": [],
      "source": [
        "# Define the neural network architecture\n",
        "class Net(nn.Module):\n",
        "    def __init__(self, input_size):\n",
        "        super(Net, self).__init__()\n",
        "        self.layers = nn.Sequential(\n",
        "            nn.Linear(input_size , 128),\n",
        "            nn.BatchNorm1d(128),\n",
        "            nn.ReLU(),\n",
        "            nn.Dropout(0.3),\n",
        "            nn.Linear(128, 64 ),\n",
        "            nn.BatchNorm1d(64),\n",
        "            nn.ReLU(),\n",
        "            nn.Dropout(0.3),\n",
        "            nn.Linear(64, 32),\n",
        "            nn.BatchNorm1d(32),\n",
        "            nn.ReLU(),\n",
        "            nn.Dropout(0.3 ),\n",
        "            nn.Linear(32, 1)\n",
        "        )\n",
        "\n",
        "    def forward(self, x):\n",
        "        return self.layers(x)"
      ]
    },
    {
      "cell_type": "markdown",
      "metadata": {
        "id": "57"
      },
      "source": [
        "### **Calculating Number of Weights in the Neural Network**\n",
        "\n",
        "The total number of weights and biases in the network is the sum of weights and biases in each layer, including parameters from Batch Normalization layers:\n",
        "\n",
        "- **First Layer (Input to Hidden 1)**:\n",
        "  - **Weights**: `input_size * 128`\n",
        "  - **Biases**: `128`\n",
        "- **First BatchNorm Layer**:\n",
        "  - **Parameters**:\n",
        "    - Scale (γ): `128`\n",
        "    - Shift (β): `128`\n",
        "    - **Total**: `128 + 128 = 256`\n",
        "- **Second Layer (Hidden 1 to Hidden 2)**:\n",
        "  - **Weights**: `128 * 64`\n",
        "  - **Biases**: `64`\n",
        "- **Second BatchNorm Layer**:\n",
        "  - **Parameters**:\n",
        "    - Scale (γ): `64`\n",
        "    - Shift (β): `64`\n",
        "    - **Total**: `64 + 64 = 128`\n",
        "- **Third Layer (Hidden 2 to Hidden 3)**:\n",
        "  - **Weights**: `64 * 32`\n",
        "  - **Biases**: `32`\n",
        "- **Third BatchNorm Layer**:\n",
        "  - **Parameters**:\n",
        "    - Scale (γ): `32`\n",
        "    - Shift (β): `32`\n",
        "    - **Total**: `32 + 32 = 64`\n",
        "- **Output Layer (Hidden 3 to Output)**:\n",
        "  - **Weights**: `32 * 1 = 32`\n",
        "  - **Biases**: `1`\n",
        "\n",
        "**Total Weights and Biases**:\n",
        "\n",
        "\\[\n",
        "\\begin{align*}\n",
        "\\text{Total Parameters} &= \\left( \\text{Input Layer Parameters} \\right) + \\left( \\text{First BatchNorm Parameters} \\right) + \\left( \\text{Second Layer Parameters} \\right) \\\\\n",
        "&\\quad + \\left( \\text{Second BatchNorm Parameters} \\right) + \\left( \\text{Third Layer Parameters} \\right) + \\left( \\text{Third BatchNorm Parameters} \\right) + \\left( \\text{Output Layer Parameters} \\right) \\\\\n",
        "&= \\left( ( \\text{input\\_size} \\times 128 ) + 128 \\right) + 256 + \\left( (128 \\times 64) + 64 \\right) \\\\\n",
        "&\\quad + 128 + \\left( (64 \\times 32) + 32 \\right) + 64 + (32 + 1)\n",
        "\\end{align*}\n",
        "\\]\n",
        "\n",
        "Calculating constants:\n",
        "\n",
        "- First Layer: `input_size * 128 + 128`\n",
        "- First BatchNorm: `256`\n",
        "- Second Layer: `8192 + 64 = 8256`\n",
        "- Second BatchNorm: `128`\n",
        "- Third Layer: `2048 + 32 = 2080`\n",
        "- Third BatchNorm: `64`\n",
        "- Output Layer: `32 + 1 = 33`\n",
        "\n",
        "**Total Parameters**:\n",
        "\n",
        "\\[\n",
        "\\text{Total Parameters} = (\\text{input\\_size} \\times 128) + 128 + 256 + 8256 + 128 + 2080 + 64 + 33\n",
        "\\]\n",
        "\n",
        "Adding up the constants:\n",
        "\n",
        "\\[\n",
        "\\begin{align*}\n",
        "\\text{Constants Sum} &= 128 + 256 + 8256 + 128 + 2080 + 64 + 33 \\\\\n",
        "&= 128 + 256 = 384 \\\\\n",
        "&384 + 8256 = 8640 \\\\\n",
        "&8640 + 128 = 8768 \\\\\n",
        "&8768 + 2080 = 10848 \\\\\n",
        "&10848 + 64 = 10912 \\\\\n",
        "&10912 + 33 = 10945\n",
        "\\end{align*}\n",
        "\\]\n",
        "\n",
        "**Final Total Parameters**:\n",
        "\n",
        "\\[\n",
        "\\text{Total Parameters} = (\\text{input\\_size} \\times 128) + 10945\n",
        "\\]\n",
        "\n",
        "This calculation helps in understanding the model's capacity and computational requirements. The number of parameters impacts the model's ability to learn complex patterns but also affects training time and risk of overfitting.\n",
        "\n",
        "---\n",
        "\n",
        "### **Forward Propagation with Matrices**\n",
        "\n",
        "In this neural network, forward propagation involves multiple matrix multiplications, batch normalization, activations, and dropout:\n",
        "\n",
        "1. **Layer 1**:\n",
        "   \\[\n",
        "   \\begin{align*}\n",
        "   Z_1 &= X W_1 + b_1 \\\\\n",
        "   \\hat{Z}_1 &= \\text{BatchNorm}(Z_1) \\\\\n",
        "   H_1 &= \\text{ReLU}(\\hat{Z}_1) \\\\\n",
        "   H_1^{\\text{drop}} &= \\text{Dropout}(H_1)\n",
        "   \\end{align*}\n",
        "   \\]\n",
        "2. **Layer 2**:\n",
        "   \\[\n",
        "   \\begin{align*}\n",
        "   Z_2 &= H_1^{\\text{drop}} W_2 + b_2 \\\\\n",
        "   \\hat{Z}_2 &= \\text{BatchNorm}(Z_2) \\\\\n",
        "   H_2 &= \\text{ReLU}(\\hat{Z}_2) \\\\\n",
        "   H_2^{\\text{drop}} &= \\text{Dropout}(H_2)\n",
        "   \\end{align*}\n",
        "   \\]\n",
        "3. **Layer 3**:\n",
        "   \\[\n",
        "   \\begin{align*}\n",
        "   Z_3 &= H_2^{\\text{drop}} W_3 + b_3 \\\\\n",
        "   \\hat{Z}_3 &= \\text{BatchNorm}(Z_3) \\\\\n",
        "   H_3 &= \\text{ReLU}(\\hat{Z}_3) \\\\\n",
        "   H_3^{\\text{drop}} &= \\text{Dropout}(H_3)\n",
        "   \\end{align*}\n",
        "   \\]\n",
        "4. **Output Layer**:\n",
        "   \\[\n",
        "   Y_{\\text{pred}} = H_3^{\\text{drop}} W_4 + b_4\n",
        "   \\]\n",
        "\n",
        "- **\\( X \\)**: Input matrix.\n",
        "- **\\( W \\)**: Weight matrices.\n",
        "- **\\( b \\)**: Bias vectors.\n",
        "- **BatchNorm**: Batch Normalization operation.\n",
        "- **ReLU**: Activation function applied element-wise.\n",
        "- **Dropout**: Randomly sets a fraction of inputs to zero during training.\n",
        "\n",
        "Each layer performs the following operations:\n",
        "\n",
        "- **Linear Transformation**: \\( Z = HW + b \\)\n",
        "- **Batch Normalization**: Normalizes the output of the linear layer.\n",
        "- **Activation**: Applies ReLU to introduce non-linearity.\n",
        "- **Dropout**: Randomly drops neurons to prevent overfitting (only during training).\n",
        "\n",
        "This process allows the network to learn complex, non-linear relationships in the data by transforming inputs through successive layers of computations.\n",
        "\n",
        "**Forward Propagation with Matrices**:\n",
        "\n",
        "In this neural network, forward propagation involves multiple matrix multiplications and activations:\n",
        "\n",
        "1. **Layer 1**: \\( H_1 = ReLU(XW_1 + b_1) \\)\n",
        "2. **Layer 2**: \\( H_2 = ReLU(H_1W_2 + b_2) \\)\n",
        "3. **Output Layer**: \\( Y_{pred} = H_2W_3 + b_3 \\)\n",
        "\n",
        "- **X**: Input matrix.\n",
        "- **W**: Weight matrices.\n",
        "- **b**: Bias vectors.\n",
        "- **ReLU**: Activation function applied element-wise.\n",
        "\n",
        "Each layer performs a matrix multiplication followed by an addition of the bias vector and an activation function.\n",
        "\n",
        "Batch Normalization explanation: https://www.youtube.com/watch?v=nUUqwaxLnWs\n",
        "Relu explanation: https://www.youtube.com/watch?v=68BZ5f7P94E"
      ]
    },
    {
      "cell_type": "markdown",
      "metadata": {
        "id": "58"
      },
      "source": [
        "---"
      ]
    },
    {
      "cell_type": "markdown",
      "metadata": {
        "id": "59"
      },
      "source": [
        "<a id=\"13\"></a>\n",
        "## **13. Train the Neural Network**\n",
        "\n",
        "Training the neural network involves the same steps as before but with a more complex model. We'll also use an advanced optimizer."
      ]
    },
    {
      "cell_type": "code",
      "execution_count": 81,
      "metadata": {
        "id": "60",
        "colab": {
          "base_uri": "https://localhost:8080/"
        },
        "outputId": "75c7f82c-e6ff-4391-ca98-a5c9c227db97"
      },
      "outputs": [
        {
          "output_type": "stream",
          "name": "stdout",
          "text": [
            "Epoch 1/100, Loss: 0.4725, F1 Score: 0.2850\n",
            "Epoch 2/100, Loss: 0.4030, F1 Score: 0.2681\n",
            "Epoch 3/100, Loss: 0.3159, F1 Score: 0.2890\n",
            "Epoch 4/100, Loss: 0.2905, F1 Score: 0.3077\n",
            "Epoch 5/100, Loss: 0.2901, F1 Score: 0.3127\n",
            "Epoch 6/100, Loss: 0.2281, F1 Score: 0.3281\n",
            "Epoch 7/100, Loss: 0.2533, F1 Score: 0.3378\n",
            "Epoch 8/100, Loss: 0.2778, F1 Score: 0.3342\n",
            "Epoch 9/100, Loss: 0.2483, F1 Score: 0.3584\n",
            "Epoch 10/100, Loss: 0.2239, F1 Score: 0.3510\n",
            "Epoch 11/100, Loss: 0.2464, F1 Score: 0.3690\n",
            "Epoch 12/100, Loss: 0.2040, F1 Score: 0.3739\n",
            "Epoch 13/100, Loss: 0.2582, F1 Score: 0.3493\n",
            "Epoch 14/100, Loss: 0.2537, F1 Score: 0.3761\n",
            "Epoch 15/100, Loss: 0.2084, F1 Score: 0.3887\n",
            "Epoch 16/100, Loss: 0.2236, F1 Score: 0.3610\n",
            "Epoch 17/100, Loss: 0.2137, F1 Score: 0.3861\n",
            "Epoch 18/100, Loss: 0.2279, F1 Score: 0.3746\n",
            "Epoch 19/100, Loss: 0.2095, F1 Score: 0.3875\n",
            "Epoch 20/100, Loss: 0.2448, F1 Score: 0.3910\n",
            "Epoch 21/100, Loss: 0.2531, F1 Score: 0.3758\n",
            "Epoch 22/100, Loss: 0.2116, F1 Score: 0.3789\n",
            "Epoch 23/100, Loss: 0.2086, F1 Score: 0.3804\n",
            "Epoch 24/100, Loss: 0.2091, F1 Score: 0.4133\n",
            "Epoch 25/100, Loss: 0.2145, F1 Score: 0.3839\n",
            "Epoch 26/100, Loss: 0.1814, F1 Score: 0.3804\n",
            "Epoch 27/100, Loss: 0.2038, F1 Score: 0.4133\n",
            "Epoch 28/100, Loss: 0.1746, F1 Score: 0.3987\n",
            "Epoch 29/100, Loss: 0.1951, F1 Score: 0.3827\n",
            "Epoch 30/100, Loss: 0.1889, F1 Score: 0.3875\n",
            "Epoch 31/100, Loss: 0.2077, F1 Score: 0.3912\n",
            "Epoch 32/100, Loss: 0.1577, F1 Score: 0.3937\n",
            "Epoch 33/100, Loss: 0.1827, F1 Score: 0.4175\n",
            "Epoch 34/100, Loss: 0.2000, F1 Score: 0.4092\n",
            "Epoch 35/100, Loss: 0.2010, F1 Score: 0.4013\n",
            "Epoch 36/100, Loss: 0.1997, F1 Score: 0.4013\n",
            "Epoch 37/100, Loss: 0.1934, F1 Score: 0.4106\n",
            "Epoch 38/100, Loss: 0.1660, F1 Score: 0.4013\n",
            "Epoch 39/100, Loss: 0.2081, F1 Score: 0.4067\n",
            "Epoch 40/100, Loss: 0.1700, F1 Score: 0.4079\n",
            "Epoch 41/100, Loss: 0.1996, F1 Score: 0.4133\n",
            "Epoch 42/100, Loss: 0.1812, F1 Score: 0.4161\n",
            "Epoch 43/100, Loss: 0.1862, F1 Score: 0.4120\n",
            "Epoch 44/100, Loss: 0.1863, F1 Score: 0.4079\n",
            "Epoch 45/100, Loss: 0.2249, F1 Score: 0.4164\n",
            "Epoch 46/100, Loss: 0.2039, F1 Score: 0.4039\n",
            "Epoch 47/100, Loss: 0.1637, F1 Score: 0.4189\n",
            "Epoch 48/100, Loss: 0.1863, F1 Score: 0.4175\n",
            "Epoch 49/100, Loss: 0.2074, F1 Score: 0.4257\n",
            "Epoch 50/100, Loss: 0.2076, F1 Score: 0.4311\n",
            "Epoch 51/100, Loss: 0.2019, F1 Score: 0.4228\n",
            "Epoch 52/100, Loss: 0.1638, F1 Score: 0.4092\n",
            "Epoch 53/100, Loss: 0.1474, F1 Score: 0.4147\n",
            "Epoch 54/100, Loss: 0.1771, F1 Score: 0.4192\n",
            "Epoch 55/100, Loss: 0.1720, F1 Score: 0.4214\n",
            "Epoch 56/100, Loss: 0.1605, F1 Score: 0.4133\n",
            "Epoch 57/100, Loss: 0.1974, F1 Score: 0.4247\n",
            "Epoch 58/100, Loss: 0.2251, F1 Score: 0.4214\n",
            "Epoch 59/100, Loss: 0.1748, F1 Score: 0.4218\n",
            "Epoch 60/100, Loss: 0.2419, F1 Score: 0.4251\n",
            "Epoch 61/100, Loss: 0.1847, F1 Score: 0.4266\n",
            "Epoch 62/100, Loss: 0.2164, F1 Score: 0.4336\n",
            "Epoch 63/100, Loss: 0.1516, F1 Score: 0.4161\n",
            "Epoch 64/100, Loss: 0.1879, F1 Score: 0.4247\n",
            "Epoch 65/100, Loss: 0.1453, F1 Score: 0.4351\n",
            "Epoch 66/100, Loss: 0.1311, F1 Score: 0.4068\n",
            "Epoch 67/100, Loss: 0.1305, F1 Score: 0.4131\n",
            "Epoch 68/100, Loss: 0.1798, F1 Score: 0.4291\n",
            "Epoch 69/100, Loss: 0.1710, F1 Score: 0.4366\n",
            "Epoch 70/100, Loss: 0.1599, F1 Score: 0.4413\n",
            "Epoch 71/100, Loss: 0.1565, F1 Score: 0.4261\n",
            "Epoch 72/100, Loss: 0.1537, F1 Score: 0.4218\n",
            "Epoch 73/100, Loss: 0.1782, F1 Score: 0.4291\n",
            "Epoch 74/100, Loss: 0.1358, F1 Score: 0.4291\n",
            "Epoch 75/100, Loss: 0.1668, F1 Score: 0.4306\n",
            "Epoch 76/100, Loss: 0.2179, F1 Score: 0.4291\n",
            "Epoch 77/100, Loss: 0.1775, F1 Score: 0.4429\n",
            "Epoch 78/100, Loss: 0.1660, F1 Score: 0.4413\n",
            "Epoch 79/100, Loss: 0.1592, F1 Score: 0.4133\n",
            "Epoch 80/100, Loss: 0.1456, F1 Score: 0.4306\n",
            "Epoch 81/100, Loss: 0.1393, F1 Score: 0.4247\n",
            "Epoch 82/100, Loss: 0.1288, F1 Score: 0.4366\n",
            "Epoch 83/100, Loss: 0.1460, F1 Score: 0.4247\n",
            "Epoch 84/100, Loss: 0.1579, F1 Score: 0.4330\n",
            "Epoch 85/100, Loss: 0.1678, F1 Score: 0.4326\n",
            "Epoch 86/100, Loss: 0.1684, F1 Score: 0.4291\n",
            "Epoch 87/100, Loss: 0.1942, F1 Score: 0.4236\n",
            "Epoch 88/100, Loss: 0.1496, F1 Score: 0.4444\n",
            "Epoch 89/100, Loss: 0.1265, F1 Score: 0.4406\n",
            "Epoch 90/100, Loss: 0.1520, F1 Score: 0.4382\n",
            "Epoch 91/100, Loss: 0.1501, F1 Score: 0.4271\n",
            "Epoch 92/100, Loss: 0.1504, F1 Score: 0.4382\n",
            "Epoch 93/100, Loss: 0.1620, F1 Score: 0.4306\n",
            "Epoch 94/100, Loss: 0.1466, F1 Score: 0.4336\n",
            "Epoch 95/100, Loss: 0.1514, F1 Score: 0.4336\n",
            "Epoch 96/100, Loss: 0.1659, F1 Score: 0.4306\n",
            "Epoch 97/100, Loss: 0.1727, F1 Score: 0.4321\n",
            "Epoch 98/100, Loss: 0.1900, F1 Score: 0.4251\n",
            "Epoch 99/100, Loss: 0.1701, F1 Score: 0.4276\n",
            "Epoch 100/100, Loss: 0.1461, F1 Score: 0.4221\n"
          ]
        }
      ],
      "source": [
        "# Initialize model, loss function, optimizer\n",
        "input_size = X_train_tensor.shape[1]\n",
        "model = Net(input_size)\n",
        "model.to(device)\n",
        "\n",
        "# Define loss function\n",
        "criterion = nn.BCEWithLogitsLoss()\n",
        "\n",
        "# Define optimizer\n",
        "optimizer = optim.Adam(model.parameters(), lr=0.001)\n",
        "\n",
        "# Training parameters\n",
        "epochs = 100\n",
        "best_f1 = 0\n",
        "patience = 20\n",
        "trigger_times = 0\n",
        "\n",
        "for epoch in range(epochs):\n",
        "    model.train()\n",
        "    for X_batch, y_batch in train_loader:\n",
        "        X_batch = X_batch.to(device)\n",
        "        y_batch = y_batch.to(device).unsqueeze(1)\n",
        "\n",
        "        optimizer.zero_grad()\n",
        "        outputs = model(X_batch )\n",
        "        loss = criterion(outputs, y_batch)\n",
        "        loss.backward()\n",
        "        optimizer.step()\n",
        "\n",
        "    # Evaluate on the test set\n",
        "    model.eval()\n",
        "    with torch.no_grad():\n",
        "        outputs = model(X_test_tensor.to(device))\n",
        "        predictions = torch.sigmoid(outputs) > 0.5\n",
        "        f1 = f1_score(y_test_tensor.cpu(), predictions.cpu())\n",
        "\n",
        "    print(f\"Epoch {epoch+1}/{epochs}, Loss: {loss.item():.4f}, F1 Score: {f1:.4f}\")\n",
        "\n",
        "    # Early stopping based on F1 Score\n",
        "    if f1 > best_f1:\n",
        "        best_f1 = f1\n",
        "        trigger_times = 0\n",
        "        # Save the best model\n",
        "        torch.save(model.state_dict(), 'best_model.pth')\n",
        "    else:\n",
        "        trigger_times += 1\n",
        "        if trigger_times >= patience:\n",
        "            print('Early stopping!')\n",
        "            break"
      ]
    },
    {
      "cell_type": "markdown",
      "metadata": {
        "id": "61"
      },
      "source": [
        "**Loss Function Explanation**:\n",
        "\n",
        "The **loss function** measures the difference between the predicted outputs and the true labels. In binary classification, `BCEWithLogitsLoss` combines a sigmoid layer and binary cross-entropy loss in one class. It is suitable for models that output raw scores (logits).\n",
        "\n",
        "**Optimizer Explanation**:\n",
        "\n",
        "An **optimizer** updates the model parameters to minimize the loss function. We use **Adam**, an adaptive learning rate optimizer that combines the advantages of two other extensions of stochastic gradient descent: AdaGrad and RMSProp. It computes individual adaptive learning rates for different parameters."
      ]
    },
    {
      "cell_type": "markdown",
      "metadata": {
        "id": "62"
      },
      "source": [
        "**Gradient Descent with Matrices**:\n",
        "\n",
        "In backpropagation, gradients are computed for each layer's weights and biases. These gradients are matrices/tensors that are used to update the weights:\n",
        "\n",
        "\\[ W = W - \\eta \\frac{\\partial L}{\\partial W} \\]\n",
        "\\[ b = b - \\eta \\frac{\\partial L}{\\partial b} \\]\n",
        "\n",
        "For each layer, the gradient of the loss with respect to its weights and biases is calculated using the chain rule, considering the gradients from subsequent layers.\n",
        "\n",
        "This process allows the network to adjust all weights and biases to minimize the overall loss function."
      ]
    },
    {
      "cell_type": "markdown",
      "metadata": {
        "id": "63"
      },
      "source": [
        "---"
      ]
    },
    {
      "cell_type": "markdown",
      "metadata": {
        "id": "64"
      },
      "source": [
        "<a id=\"14\"></a>\n",
        "## **14. Final Evaluation**\n",
        "\n",
        "After training, we evaluate the model's performance on the test set using various metrics."
      ]
    },
    {
      "cell_type": "code",
      "execution_count": 82,
      "metadata": {
        "id": "65",
        "colab": {
          "base_uri": "https://localhost:8080/",
          "height": 687
        },
        "outputId": "6f48f4c5-dd93-49e4-82db-95a7a587dee8"
      },
      "outputs": [
        {
          "output_type": "stream",
          "name": "stdout",
          "text": [
            "Test Accuracy: 0.9165\n",
            "Precision: 0.2760\n",
            "Recall: 0.8971\n",
            "F1 Score: 0.4221\n",
            "\n",
            "Classification Report:\n",
            "              precision    recall  f1-score   support\n",
            "\n",
            "           0       1.00      0.92      0.95      1932\n",
            "           1       0.28      0.90      0.42        68\n",
            "\n",
            "    accuracy                           0.92      2000\n",
            "   macro avg       0.64      0.91      0.69      2000\n",
            "weighted avg       0.97      0.92      0.94      2000\n",
            "\n"
          ]
        },
        {
          "output_type": "display_data",
          "data": {
            "text/plain": [
              "<Figure size 500x400 with 2 Axes>"
            ],
            "image/png": "[encoded data removed]"
          },
          "metadata": {}
        }
      ],
      "source": [
        "# Evaluate the model\n",
        "model.eval()\n",
        "with torch.no_grad():\n",
        "    outputs = model(X_test_tensor.to(device))\n",
        "    predictions = torch.sigmoid(outputs) > 0.5\n",
        "    accuracy = accuracy_score(y_test_tensor.cpu(), predictions.cpu())\n",
        "    precision = precision_score(y_test_tensor.cpu(), predictions.cpu())\n",
        "    recall = recall_score(y_test_tensor.cpu(), predictions.cpu())\n",
        "    f1 = f1_score(y_test_tensor.cpu(), predictions.cpu())\n",
        "\n",
        "print(f\"Test Accuracy: {accuracy:.4f}\")\n",
        "print(f\"Precision: {precision:.4f}\")\n",
        "print(f\"Recall: {recall:.4f}\")\n",
        "print(f\"F1 Score: {f1:.4f}\")\n",
        "\n",
        "print(\"\\nClassification Report:\")\n",
        "print(classification_report(y_test_tensor.cpu(), predictions.cpu()))\n",
        "\n",
        "# Compute confusion matrix\n",
        "cm = confusion_matrix (y_test_tensor.cpu(), predictions.cpu())\n",
        "\n",
        "# Plot confusion matrix\n",
        "sns.set_style('white')\n",
        "plt.figure(figsize=(5, 4))\n",
        "sns.heatmap(cm, annot=True, fmt='d', cmap=plt.cm.Blues)\n",
        "plt.title('Confusion Matrix')\n",
        "plt.ylabel('True Label')\n",
        "plt.xlabel('Predicted Label')\n",
        "plt.show()"
      ]
    },
    {
      "cell_type": "markdown",
      "metadata": {
        "id": "66"
      },
      "source": [
        "The **classification report** provides detailed metrics like precision, recall, and F1 score, which are essential for evaluating classification models, especially in imbalanced datasets.\n",
        "\n",
        "- **Precision**: The ratio of true positives to the sum of true and false positives. It measures the model's accuracy in predicting positive instances.\n",
        "- **Recall**: The ratio of true positives to the sum of true positives and false negatives. It measures the model's ability to find all positive instances.\n",
        "- **F1 Score**: The harmonic mean of precision and recall. It provides a balance between the two metrics."
      ]
    },
    {
      "cell_type": "markdown",
      "metadata": {
        "id": "67"
      },
      "source": [
        "---"
      ]
    },
    {
      "cell_type": "markdown",
      "metadata": {
        "id": "68"
      },
      "source": [
        "<a id=\"15\"></a>\n",
        "## **15. Prediction Functionality with Widgets**\n",
        "\n",
        "To make our model interactive, we'll create widgets that allow users to input new data and get predictions."
      ]
    },
    {
      "cell_type": "code",
      "execution_count": 83,
      "metadata": {
        "id": "69",
        "colab": {
          "base_uri": "https://localhost:8080/",
          "height": 379,
          "referenced_widgets": [
            "f63f8b66cacf4e59989d7e5ca95a9253",
            "877209ae0b62411784dc27fb19501a7e",
            "41501f8c571f4f05b8264b58cfad3e22",
            "993f33d18133497ca31f208c5c56bf9c",
            "27e57b3e7dc04abd889d3110442b595a",
            "72b0662576c941a2bf5b4ee1a83e66fe",
            "14f994ee5587414eb33e5b8994d2e86d",
            "5a790504c0fb431db6b4b2f04513f9bb",
            "831d4276a11f41dab93e2561925831dd",
            "59767acab8714ed0a460d9baf506bedd",
            "39a0a7013f70402ead150f7a587c8ff4",
            "2b14e32bc8fa41ed88b4e3ce4883c252",
            "60bc03db49574a8c88d3dd498878a386",
            "ce62385a44cd438aa19e23759dd5f841",
            "08a11b5e3cea40bd8c74252e0eab051c",
            "c7a8c55988c244b3af05f6993e38c41a",
            "0ea0a45b7f0646f8ad6fb5fb89d3618f",
            "25391aac1d224f83961e9d52e501e2f2",
            "12e4196d1706423f84021ade2fe5256c",
            "9f05917e22184edfa1d718eb6873e354",
            "43c50f05f0da47088dce023716978360"
          ]
        },
        "outputId": "f03d84ff-721f-41e1-de2b-a1f5fe1e7cef"
      },
      "outputs": [
        {
          "output_type": "display_data",
          "data": {
            "text/plain": [
              "FloatSlider(value=300.0, description='Air Temp [K]:', max=305.0, min=295.0)"
            ],
            "application/vnd.jupyter.widget-view+json": {
              "version_major": 2,
              "version_minor": 0,
              "model_id": "f63f8b66cacf4e59989d7e5ca95a9253"
            }
          },
          "metadata": {}
        },
        {
          "output_type": "display_data",
          "data": {
            "text/plain": [
              "FloatSlider(value=310.0, description='Process Temp [K]:', max=315.0, min=305.0)"
            ],
            "application/vnd.jupyter.widget-view+json": {
              "version_major": 2,
              "version_minor": 0,
              "model_id": "993f33d18133497ca31f208c5c56bf9c"
            }
          },
          "metadata": {}
        },
        {
          "output_type": "display_data",
          "data": {
            "text/plain": [
              "IntSlider(value=1500, description='Rot Speed [rpm]:', max=3000, min=1000, step=10)"
            ],
            "application/vnd.jupyter.widget-view+json": {
              "version_major": 2,
              "version_minor": 0,
              "model_id": "14f994ee5587414eb33e5b8994d2e86d"
            }
          },
          "metadata": {}
        },
        {
          "output_type": "display_data",
          "data": {
            "text/plain": [
              "FloatSlider(value=40.0, description='Torque [Nm]:', max=80.0)"
            ],
            "application/vnd.jupyter.widget-view+json": {
              "version_major": 2,
              "version_minor": 0,
              "model_id": "59767acab8714ed0a460d9baf506bedd"
            }
          },
          "metadata": {}
        },
        {
          "output_type": "display_data",
          "data": {
            "text/plain": [
              "IntSlider(value=100, description='Tool Wear [min]:', max=250)"
            ],
            "application/vnd.jupyter.widget-view+json": {
              "version_major": 2,
              "version_minor": 0,
              "model_id": "60bc03db49574a8c88d3dd498878a386"
            }
          },
          "metadata": {}
        },
        {
          "output_type": "display_data",
          "data": {
            "text/plain": [
              "Dropdown(description='Type:', index=1, options=('L', 'M', 'H'), value='M')"
            ],
            "application/vnd.jupyter.widget-view+json": {
              "version_major": 2,
              "version_minor": 0,
              "model_id": "c7a8c55988c244b3af05f6993e38c41a"
            }
          },
          "metadata": {}
        },
        {
          "output_type": "display_data",
          "data": {
            "text/plain": [
              "Button(description='Predict', style=ButtonStyle())"
            ],
            "application/vnd.jupyter.widget-view+json": {
              "version_major": 2,
              "version_minor": 0,
              "model_id": "12e4196d1706423f84021ade2fe5256c"
            }
          },
          "metadata": {}
        },
        {
          "output_type": "stream",
          "name": "stdout",
          "text": [
            "Low risk of machine failure.\n",
            "Low risk of machine failure.\n",
            "Low risk of machine failure.\n",
            "Low risk of machine failure.\n",
            "Low risk of machine failure.\n",
            "Low risk of machine failure.\n",
            "High risk of machine failure.\n",
            "High risk of machine failure.\n"
          ]
        }
      ],
      "source": [
        "# Define input widgets\n",
        "air_temp_widget = widgets.FloatSlider(value=300, min=295, max=305, step=0.1, description='Air Temp [K]:')\n",
        "process_temp_widget = widgets.FloatSlider(value=310, min=305, max=315, step=0.1, description='Process Temp [K]:')\n",
        "rot_speed_widget = widgets.IntSlider(value=1500, min=1000, max=3000, step=10, description='Rot Speed [rpm]:')\n",
        "torque_widget = widgets.FloatSlider(value=40, min=0, max=80, step=0.1, description='Torque [Nm]:')\n",
        "tool_wear_widget = widgets.IntSlider(value=100, min=0, max=250, step=1, description='Tool Wear [min]:')\n",
        "\n",
        "# Machine type selection\n",
        "type_widget = widgets.Dropdown(options=['L', 'M', 'H'], value='M', description='Type:')\n",
        "\n",
        "# Prediction function\n",
        "def predict_failure(*args):\n",
        "    # Create a DataFrame from the inputs\n",
        "    input_data = pd.DataFrame({\n",
        "        'Air temperature [K]': [air_temp_widget.value],\n",
        "        'Process temperature [K]': [process_temp_widget.value],\n",
        "        'Rotational speed [rpm]': [rot_speed_widget.value],\n",
        "        'Torque [Nm]': [torque_widget.value],\n",
        "        'Tool wear [min]': [tool_wear_widget.value],\n",
        "        'Type_H': [1 if type_widget.value == 'H' else 0],\n",
        "        'Type_L': [1 if type_widget.value == 'L' else 0],\n",
        "        'Type_M': [1 if type_widget.value == 'M' else 0]\n",
        "    })\n",
        "\n",
        "    # Calculate Torque_Over_Speed\n",
        "    input_data['Torque_Over_Speed'] = input_data['Torque [Nm]'] / (input_data['Rotational speed [rpm]'] + 1e-3)\n",
        "\n",
        "    # Ensure columns are in the same order as training data\n",
        "    input_data = input_data[X.columns]\n",
        "\n",
        "    # Standardize and apply PCA\n",
        "    input_scaled = scaler.transform(input_data)\n",
        "    input_tensor = torch.tensor(input_scaled, dtype=torch.float32).to(device)\n",
        "\n",
        "    # Make prediction\n",
        "    model.eval()\n",
        "    with torch.no_grad():\n",
        "        output = model(input_tensor)\n",
        "        prediction = torch.sigmoid(output).item()\n",
        "\n",
        "    # Display result\n",
        "    if prediction > 0.5:\n",
        "        print(\"High risk of machine failure.\")\n",
        "    else:\n",
        "        print(\"Low risk of machine failure.\")\n",
        "\n",
        "# Button to trigger prediction\n",
        "predict_button = widgets.Button(description=\"Predict\")\n",
        "predict_button.on_click(predict_failure)\n",
        "\n",
        "# Display widgets\n",
        "display(air_temp_widget, process_temp_widget, rot_speed_widget, torque_widget, tool_wear_widget, type_widget, predict_button)"
      ]
    },
    {
      "cell_type": "markdown",
      "metadata": {
        "id": "71"
      },
      "source": [
        "---"
      ]
    }
  ],
  "metadata": {
    "kernelspec": {
      "display_name": "Python 3",
      "name": "python3"
    },
    "language_info": {
      "codemirror_mode": {
        "name": "ipython",
        "version": 3
      },
      "file_extension": ".py",
      "mimetype": "text/x-python",
      "name": "python",
      "nbconvert_exporter": "python",
      "pygments_lexer": "ipython3",
      "version": "3.8"
    },
    "colab": {
      "provenance": [],
      "gpuType": "T4",
      "include_colab_link": true
    },
    "accelerator": "GPU",
    "widgets": {
      "application/vnd.jupyter.widget-state+json": {
        "f63f8b66cacf4e59989d7e5ca95a9253": {
          "model_module": "@jupyter-widgets/controls",
          "model_name": "FloatSliderModel",
          "model_module_version": "1.5.0",
          "state": {
            "_dom_classes": [],
            "_model_module": "@jupyter-widgets/controls",
            "_model_module_version": "1.5.0",
            "_model_name": "FloatSliderModel",
            "_view_count": null,
            "_view_module": "@jupyter-widgets/controls",
            "_view_module_version": "1.5.0",
            "_view_name": "FloatSliderView",
            "continuous_update": true,
            "description": "Air Temp [K]:",
            "description_tooltip": null,
            "disabled": false,
            "layout": "IPY_MODEL_877209ae0b62411784dc27fb19501a7e",
            "max": 305,
            "min": 295,
            "orientation": "horizontal",
            "readout": true,
            "readout_format": ".2f",
            "step": 0.1,
            "style": "IPY_MODEL_41501f8c571f4f05b8264b58cfad3e22",
            "value": 305
          }
        },
        "877209ae0b62411784dc27fb19501a7e": {
          "model_module": "@jupyter-widgets/base",
          "model_name": "LayoutModel",
          "model_module_version": "1.2.0",
          "state": {
            "_model_module": "@jupyter-widgets/base",
            "_model_module_version": "1.2.0",
            "_model_name": "LayoutModel",
            "_view_count": null,
            "_view_module": "@jupyter-widgets/base",
            "_view_module_version": "1.2.0",
            "_view_name": "LayoutView",
            "align_content": null,
            "align_items": null,
            "align_self": null,
            "border": null,
            "bottom": null,
            "display": null,
            "flex": null,
            "flex_flow": null,
            "grid_area": null,
            "grid_auto_columns": null,
            "grid_auto_flow": null,
            "grid_auto_rows": null,
            "grid_column": null,
            "grid_gap": null,
            "grid_row": null,
            "grid_template_areas": null,
            "grid_template_columns": null,
            "grid_template_rows": null,
            "height": null,
            "justify_content": null,
            "justify_items": null,
            "left": null,
            "margin": null,
            "max_height": null,
            "max_width": null,
            "min_height": null,
            "min_width": null,
            "object_fit": null,
            "object_position": null,
            "order": null,
            "overflow": null,
            "overflow_x": null,
            "overflow_y": null,
            "padding": null,
            "right": null,
            "top": null,
            "visibility": null,
            "width": null
          }
        },
        "41501f8c571f4f05b8264b58cfad3e22": {
          "model_module": "@jupyter-widgets/controls",
          "model_name": "SliderStyleModel",
          "model_module_version": "1.5.0",
          "state": {
            "_model_module": "@jupyter-widgets/controls",
            "_model_module_version": "1.5.0",
            "_model_name": "SliderStyleModel",
            "_view_count": null,
            "_view_module": "@jupyter-widgets/base",
            "_view_module_version": "1.2.0",
            "_view_name": "StyleView",
            "description_width": "",
            "handle_color": null
          }
        },
        "993f33d18133497ca31f208c5c56bf9c": {
          "model_module": "@jupyter-widgets/controls",
          "model_name": "FloatSliderModel",
          "model_module_version": "1.5.0",
          "state": {
            "_dom_classes": [],
            "_model_module": "@jupyter-widgets/controls",
            "_model_module_version": "1.5.0",
            "_model_name": "FloatSliderModel",
            "_view_count": null,
            "_view_module": "@jupyter-widgets/controls",
            "_view_module_version": "1.5.0",
            "_view_name": "FloatSliderView",
            "continuous_update": true,
            "description": "Process Temp [K]:",
            "description_tooltip": null,
            "disabled": false,
            "layout": "IPY_MODEL_27e57b3e7dc04abd889d3110442b595a",
            "max": 315,
            "min": 305,
            "orientation": "horizontal",
            "readout": true,
            "readout_format": ".2f",
            "step": 0.1,
            "style": "IPY_MODEL_72b0662576c941a2bf5b4ee1a83e66fe",
            "value": 312.8
          }
        },
        "27e57b3e7dc04abd889d3110442b595a": {
          "model_module": "@jupyter-widgets/base",
          "model_name": "LayoutModel",
          "model_module_version": "1.2.0",
          "state": {
            "_model_module": "@jupyter-widgets/base",
            "_model_module_version": "1.2.0",
            "_model_name": "LayoutModel",
            "_view_count": null,
            "_view_module": "@jupyter-widgets/base",
            "_view_module_version": "1.2.0",
            "_view_name": "LayoutView",
            "align_content": null,
            "align_items": null,
            "align_self": null,
            "border": null,
            "bottom": null,
            "display": null,
            "flex": null,
            "flex_flow": null,
            "grid_area": null,
            "grid_auto_columns": null,
            "grid_auto_flow": null,
            "grid_auto_rows": null,
            "grid_column": null,
            "grid_gap": null,
            "grid_row": null,
            "grid_template_areas": null,
            "grid_template_columns": null,
            "grid_template_rows": null,
            "height": null,
            "justify_content": null,
            "justify_items": null,
            "left": null,
            "margin": null,
            "max_height": null,
            "max_width": null,
            "min_height": null,
            "min_width": null,
            "object_fit": null,
            "object_position": null,
            "order": null,
            "overflow": null,
            "overflow_x": null,
            "overflow_y": null,
            "padding": null,
            "right": null,
            "top": null,
            "visibility": null,
            "width": null
          }
        },
        "72b0662576c941a2bf5b4ee1a83e66fe": {
          "model_module": "@jupyter-widgets/controls",
          "model_name": "SliderStyleModel",
          "model_module_version": "1.5.0",
          "state": {
            "_model_module": "@jupyter-widgets/controls",
            "_model_module_version": "1.5.0",
            "_model_name": "SliderStyleModel",
            "_view_count": null,
            "_view_module": "@jupyter-widgets/base",
            "_view_module_version": "1.2.0",
            "_view_name": "StyleView",
            "description_width": "",
            "handle_color": null
          }
        },
        "14f994ee5587414eb33e5b8994d2e86d": {
          "model_module": "@jupyter-widgets/controls",
          "model_name": "IntSliderModel",
          "model_module_version": "1.5.0",
          "state": {
            "_dom_classes": [],
            "_model_module": "@jupyter-widgets/controls",
            "_model_module_version": "1.5.0",
            "_model_name": "IntSliderModel",
            "_view_count": null,
            "_view_module": "@jupyter-widgets/controls",
            "_view_module_version": "1.5.0",
            "_view_name": "IntSliderView",
            "continuous_update": true,
            "description": "Rot Speed [rpm]:",
            "description_tooltip": null,
            "disabled": false,
            "layout": "IPY_MODEL_5a790504c0fb431db6b4b2f04513f9bb",
            "max": 3000,
            "min": 1000,
            "orientation": "horizontal",
            "readout": true,
            "readout_format": "d",
            "step": 10,
            "style": "IPY_MODEL_831d4276a11f41dab93e2561925831dd",
            "value": 2450
          }
        },
        "5a790504c0fb431db6b4b2f04513f9bb": {
          "model_module": "@jupyter-widgets/base",
          "model_name": "LayoutModel",
          "model_module_version": "1.2.0",
          "state": {
            "_model_module": "@jupyter-widgets/base",
            "_model_module_version": "1.2.0",
            "_model_name": "LayoutModel",
            "_view_count": null,
            "_view_module": "@jupyter-widgets/base",
            "_view_module_version": "1.2.0",
            "_view_name": "LayoutView",
            "align_content": null,
            "align_items": null,
            "align_self": null,
            "border": null,
            "bottom": null,
            "display": null,
            "flex": null,
            "flex_flow": null,
            "grid_area": null,
            "grid_auto_columns": null,
            "grid_auto_flow": null,
            "grid_auto_rows": null,
            "grid_column": null,
            "grid_gap": null,
            "grid_row": null,
            "grid_template_areas": null,
            "grid_template_columns": null,
            "grid_template_rows": null,
            "height": null,
            "justify_content": null,
            "justify_items": null,
            "left": null,
            "margin": null,
            "max_height": null,
            "max_width": null,
            "min_height": null,
            "min_width": null,
            "object_fit": null,
            "object_position": null,
            "order": null,
            "overflow": null,
            "overflow_x": null,
            "overflow_y": null,
            "padding": null,
            "right": null,
            "top": null,
            "visibility": null,
            "width": null
          }
        },
        "831d4276a11f41dab93e2561925831dd": {
          "model_module": "@jupyter-widgets/controls",
          "model_name": "SliderStyleModel",
          "model_module_version": "1.5.0",
          "state": {
            "_model_module": "@jupyter-widgets/controls",
            "_model_module_version": "1.5.0",
            "_model_name": "SliderStyleModel",
            "_view_count": null,
            "_view_module": "@jupyter-widgets/base",
            "_view_module_version": "1.2.0",
            "_view_name": "StyleView",
            "description_width": "",
            "handle_color": null
          }
        },
        "59767acab8714ed0a460d9baf506bedd": {
          "model_module": "@jupyter-widgets/controls",
          "model_name": "FloatSliderModel",
          "model_module_version": "1.5.0",
          "state": {
            "_dom_classes": [],
            "_model_module": "@jupyter-widgets/controls",
            "_model_module_version": "1.5.0",
            "_model_name": "FloatSliderModel",
            "_view_count": null,
            "_view_module": "@jupyter-widgets/controls",
            "_view_module_version": "1.5.0",
            "_view_name": "FloatSliderView",
            "continuous_update": true,
            "description": "Torque [Nm]:",
            "description_tooltip": null,
            "disabled": false,
            "layout": "IPY_MODEL_39a0a7013f70402ead150f7a587c8ff4",
            "max": 80,
            "min": 0,
            "orientation": "horizontal",
            "readout": true,
            "readout_format": ".2f",
            "step": 0.1,
            "style": "IPY_MODEL_2b14e32bc8fa41ed88b4e3ce4883c252",
            "value": 40
          }
        },
        "39a0a7013f70402ead150f7a587c8ff4": {
          "model_module": "@jupyter-widgets/base",
          "model_name": "LayoutModel",
          "model_module_version": "1.2.0",
          "state": {
            "_model_module": "@jupyter-widgets/base",
            "_model_module_version": "1.2.0",
            "_model_name": "LayoutModel",
            "_view_count": null,
            "_view_module": "@jupyter-widgets/base",
            "_view_module_version": "1.2.0",
            "_view_name": "LayoutView",
            "align_content": null,
            "align_items": null,
            "align_self": null,
            "border": null,
            "bottom": null,
            "display": null,
            "flex": null,
            "flex_flow": null,
            "grid_area": null,
            "grid_auto_columns": null,
            "grid_auto_flow": null,
            "grid_auto_rows": null,
            "grid_column": null,
            "grid_gap": null,
            "grid_row": null,
            "grid_template_areas": null,
            "grid_template_columns": null,
            "grid_template_rows": null,
            "height": null,
            "justify_content": null,
            "justify_items": null,
            "left": null,
            "margin": null,
            "max_height": null,
            "max_width": null,
            "min_height": null,
            "min_width": null,
            "object_fit": null,
            "object_position": null,
            "order": null,
            "overflow": null,
            "overflow_x": null,
            "overflow_y": null,
            "padding": null,
            "right": null,
            "top": null,
            "visibility": null,
            "width": null
          }
        },
        "2b14e32bc8fa41ed88b4e3ce4883c252": {
          "model_module": "@jupyter-widgets/controls",
          "model_name": "SliderStyleModel",
          "model_module_version": "1.5.0",
          "state": {
            "_model_module": "@jupyter-widgets/controls",
            "_model_module_version": "1.5.0",
            "_model_name": "SliderStyleModel",
            "_view_count": null,
            "_view_module": "@jupyter-widgets/base",
            "_view_module_version": "1.2.0",
            "_view_name": "StyleView",
            "description_width": "",
            "handle_color": null
          }
        },
        "60bc03db49574a8c88d3dd498878a386": {
          "model_module": "@jupyter-widgets/controls",
          "model_name": "IntSliderModel",
          "model_module_version": "1.5.0",
          "state": {
            "_dom_classes": [],
            "_model_module": "@jupyter-widgets/controls",
            "_model_module_version": "1.5.0",
            "_model_name": "IntSliderModel",
            "_view_count": null,
            "_view_module": "@jupyter-widgets/controls",
            "_view_module_version": "1.5.0",
            "_view_name": "IntSliderView",
            "continuous_update": true,
            "description": "Tool Wear [min]:",
            "description_tooltip": null,
            "disabled": false,
            "layout": "IPY_MODEL_ce62385a44cd438aa19e23759dd5f841",
            "max": 250,
            "min": 0,
            "orientation": "horizontal",
            "readout": true,
            "readout_format": "d",
            "step": 1,
            "style": "IPY_MODEL_08a11b5e3cea40bd8c74252e0eab051c",
            "value": 100
          }
        },
        "ce62385a44cd438aa19e23759dd5f841": {
          "model_module": "@jupyter-widgets/base",
          "model_name": "LayoutModel",
          "model_module_version": "1.2.0",
          "state": {
            "_model_module": "@jupyter-widgets/base",
            "_model_module_version": "1.2.0",
            "_model_name": "LayoutModel",
            "_view_count": null,
            "_view_module": "@jupyter-widgets/base",
            "_view_module_version": "1.2.0",
            "_view_name": "LayoutView",
            "align_content": null,
            "align_items": null,
            "align_self": null,
            "border": null,
            "bottom": null,
            "display": null,
            "flex": null,
            "flex_flow": null,
            "grid_area": null,
            "grid_auto_columns": null,
            "grid_auto_flow": null,
            "grid_auto_rows": null,
            "grid_column": null,
            "grid_gap": null,
            "grid_row": null,
            "grid_template_areas": null,
            "grid_template_columns": null,
            "grid_template_rows": null,
            "height": null,
            "justify_content": null,
            "justify_items": null,
            "left": null,
            "margin": null,
            "max_height": null,
            "max_width": null,
            "min_height": null,
            "min_width": null,
            "object_fit": null,
            "object_position": null,
            "order": null,
            "overflow": null,
            "overflow_x": null,
            "overflow_y": null,
            "padding": null,
            "right": null,
            "top": null,
            "visibility": null,
            "width": null
          }
        },
        "08a11b5e3cea40bd8c74252e0eab051c": {
          "model_module": "@jupyter-widgets/controls",
          "model_name": "SliderStyleModel",
          "model_module_version": "1.5.0",
          "state": {
            "_model_module": "@jupyter-widgets/controls",
            "_model_module_version": "1.5.0",
            "_model_name": "SliderStyleModel",
            "_view_count": null,
            "_view_module": "@jupyter-widgets/base",
            "_view_module_version": "1.2.0",
            "_view_name": "StyleView",
            "description_width": "",
            "handle_color": null
          }
        },
        "c7a8c55988c244b3af05f6993e38c41a": {
          "model_module": "@jupyter-widgets/controls",
          "model_name": "DropdownModel",
          "model_module_version": "1.5.0",
          "state": {
            "_dom_classes": [],
            "_model_module": "@jupyter-widgets/controls",
            "_model_module_version": "1.5.0",
            "_model_name": "DropdownModel",
            "_options_labels": [
              "L",
              "M",
              "H"
            ],
            "_view_count": null,
            "_view_module": "@jupyter-widgets/controls",
            "_view_module_version": "1.5.0",
            "_view_name": "DropdownView",
            "description": "Type:",
            "description_tooltip": null,
            "disabled": false,
            "index": 1,
            "layout": "IPY_MODEL_0ea0a45b7f0646f8ad6fb5fb89d3618f",
            "style": "IPY_MODEL_25391aac1d224f83961e9d52e501e2f2"
          }
        },
        "0ea0a45b7f0646f8ad6fb5fb89d3618f": {
          "model_module": "@jupyter-widgets/base",
          "model_name": "LayoutModel",
          "model_module_version": "1.2.0",
          "state": {
            "_model_module": "@jupyter-widgets/base",
            "_model_module_version": "1.2.0",
            "_model_name": "LayoutModel",
            "_view_count": null,
            "_view_module": "@jupyter-widgets/base",
            "_view_module_version": "1.2.0",
            "_view_name": "LayoutView",
            "align_content": null,
            "align_items": null,
            "align_self": null,
            "border": null,
            "bottom": null,
            "display": null,
            "flex": null,
            "flex_flow": null,
            "grid_area": null,
            "grid_auto_columns": null,
            "grid_auto_flow": null,
            "grid_auto_rows": null,
            "grid_column": null,
            "grid_gap": null,
            "grid_row": null,
            "grid_template_areas": null,
            "grid_template_columns": null,
            "grid_template_rows": null,
            "height": null,
            "justify_content": null,
            "justify_items": null,
            "left": null,
            "margin": null,
            "max_height": null,
            "max_width": null,
            "min_height": null,
            "min_width": null,
            "object_fit": null,
            "object_position": null,
            "order": null,
            "overflow": null,
            "overflow_x": null,
            "overflow_y": null,
            "padding": null,
            "right": null,
            "top": null,
            "visibility": null,
            "width": null
          }
        },
        "25391aac1d224f83961e9d52e501e2f2": {
          "model_module": "@jupyter-widgets/controls",
          "model_name": "DescriptionStyleModel",
          "model_module_version": "1.5.0",
          "state": {
            "_model_module": "@jupyter-widgets/controls",
            "_model_module_version": "1.5.0",
            "_model_name": "DescriptionStyleModel",
            "_view_count": null,
            "_view_module": "@jupyter-widgets/base",
            "_view_module_version": "1.2.0",
            "_view_name": "StyleView",
            "description_width": ""
          }
        },
        "12e4196d1706423f84021ade2fe5256c": {
          "model_module": "@jupyter-widgets/controls",
          "model_name": "ButtonModel",
          "model_module_version": "1.5.0",
          "state": {
            "_dom_classes": [],
            "_model_module": "@jupyter-widgets/controls",
            "_model_module_version": "1.5.0",
            "_model_name": "ButtonModel",
            "_view_count": null,
            "_view_module": "@jupyter-widgets/controls",
            "_view_module_version": "1.5.0",
            "_view_name": "ButtonView",
            "button_style": "",
            "description": "Predict",
            "disabled": false,
            "icon": "",
            "layout": "IPY_MODEL_9f05917e22184edfa1d718eb6873e354",
            "style": "IPY_MODEL_43c50f05f0da47088dce023716978360",
            "tooltip": ""
          }
        },
        "9f05917e22184edfa1d718eb6873e354": {
          "model_module": "@jupyter-widgets/base",
          "model_name": "LayoutModel",
          "model_module_version": "1.2.0",
          "state": {
            "_model_module": "@jupyter-widgets/base",
            "_model_module_version": "1.2.0",
            "_model_name": "LayoutModel",
            "_view_count": null,
            "_view_module": "@jupyter-widgets/base",
            "_view_module_version": "1.2.0",
            "_view_name": "LayoutView",
            "align_content": null,
            "align_items": null,
            "align_self": null,
            "border": null,
            "bottom": null,
            "display": null,
            "flex": null,
            "flex_flow": null,
            "grid_area": null,
            "grid_auto_columns": null,
            "grid_auto_flow": null,
            "grid_auto_rows": null,
            "grid_column": null,
            "grid_gap": null,
            "grid_row": null,
            "grid_template_areas": null,
            "grid_template_columns": null,
            "grid_template_rows": null,
            "height": null,
            "justify_content": null,
            "justify_items": null,
            "left": null,
            "margin": null,
            "max_height": null,
            "max_width": null,
            "min_height": null,
            "min_width": null,
            "object_fit": null,
            "object_position": null,
            "order": null,
            "overflow": null,
            "overflow_x": null,
            "overflow_y": null,
            "padding": null,
            "right": null,
            "top": null,
            "visibility": null,
            "width": null
          }
        },
        "43c50f05f0da47088dce023716978360": {
          "model_module": "@jupyter-widgets/controls",
          "model_name": "ButtonStyleModel",
          "model_module_version": "1.5.0",
          "state": {
            "_model_module": "@jupyter-widgets/controls",
            "_model_module_version": "1.5.0",
            "_model_name": "ButtonStyleModel",
            "_view_count": null,
            "_view_module": "@jupyter-widgets/base",
            "_view_module_version": "1.2.0",
            "_view_name": "StyleView",
            "button_color": null,
            "font_weight": ""
          }
        }
      }
    }
  },
  "nbformat": 4,
  "nbformat_minor": 0
}